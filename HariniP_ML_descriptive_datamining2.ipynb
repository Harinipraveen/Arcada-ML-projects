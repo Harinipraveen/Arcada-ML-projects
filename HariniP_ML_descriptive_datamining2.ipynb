{
 "cells": [
  {
   "cell_type": "code",
   "execution_count": 1,
   "metadata": {},
   "outputs": [],
   "source": [
    "#importing basic lib\n",
    "import pandas as pd\n",
    "import numpy as np\n",
    "import warnings\n",
    "warnings.simplefilter('ignore')"
   ]
  },
  {
   "cell_type": "code",
   "execution_count": 2,
   "metadata": {},
   "outputs": [],
   "source": [
    "#importing neccessary libs\n",
    "from sklearn import preprocessing\n",
    "from sklearn.model_selection import train_test_split\n",
    "from sklearn.pipeline import make_pipeline,Pipeline\n",
    "from sklearn.preprocessing import StandardScaler\n",
    "from sklearn.decomposition import PCA\n",
    "from sklearn.ensemble import RandomForestClassifier\n",
    "from sklearn.metrics import mean_squared_error"
   ]
  },
  {
   "cell_type": "code",
   "execution_count": 3,
   "metadata": {},
   "outputs": [],
   "source": [
    "import matplotlib.pyplot as plt\n",
    "import squarify"
   ]
  },
  {
   "cell_type": "code",
   "execution_count": 4,
   "metadata": {},
   "outputs": [],
   "source": [
    "filename = 'color_survey_answers.csv'"
   ]
  },
  {
   "cell_type": "code",
   "execution_count": 5,
   "metadata": {},
   "outputs": [],
   "source": [
    "colours = pd.DataFrame()"
   ]
  },
  {
   "cell_type": "code",
   "execution_count": 6,
   "metadata": {},
   "outputs": [],
   "source": [
    "colours = pd.read_csv(filename , delimiter='\\t')"
   ]
  },
  {
   "cell_type": "code",
   "execution_count": 7,
   "metadata": {},
   "outputs": [
    {
     "data": {
      "text/html": [
       "<div>\n",
       "<style scoped>\n",
       "    .dataframe tbody tr th:only-of-type {\n",
       "        vertical-align: middle;\n",
       "    }\n",
       "\n",
       "    .dataframe tbody tr th {\n",
       "        vertical-align: top;\n",
       "    }\n",
       "\n",
       "    .dataframe thead th {\n",
       "        text-align: right;\n",
       "    }\n",
       "</style>\n",
       "<table border=\"1\" class=\"dataframe\">\n",
       "  <thead>\n",
       "    <tr style=\"text-align: right;\">\n",
       "      <th></th>\n",
       "      <th>id</th>\n",
       "      <th>user_id</th>\n",
       "      <th>datestamp</th>\n",
       "      <th>r</th>\n",
       "      <th>g</th>\n",
       "      <th>b</th>\n",
       "      <th>colorname</th>\n",
       "    </tr>\n",
       "  </thead>\n",
       "  <tbody>\n",
       "    <tr>\n",
       "      <th>0</th>\n",
       "      <td>1</td>\n",
       "      <td>1</td>\n",
       "      <td>1.267419e+09</td>\n",
       "      <td>72</td>\n",
       "      <td>100</td>\n",
       "      <td>175</td>\n",
       "      <td>pastel blue</td>\n",
       "    </tr>\n",
       "    <tr>\n",
       "      <th>1</th>\n",
       "      <td>2</td>\n",
       "      <td>1</td>\n",
       "      <td>1.267419e+09</td>\n",
       "      <td>204</td>\n",
       "      <td>177</td>\n",
       "      <td>246</td>\n",
       "      <td>faint violet</td>\n",
       "    </tr>\n",
       "    <tr>\n",
       "      <th>2</th>\n",
       "      <td>3</td>\n",
       "      <td>1</td>\n",
       "      <td>1.267419e+09</td>\n",
       "      <td>182</td>\n",
       "      <td>226</td>\n",
       "      <td>245</td>\n",
       "      <td>baby blue</td>\n",
       "    </tr>\n",
       "    <tr>\n",
       "      <th>3</th>\n",
       "      <td>4</td>\n",
       "      <td>1</td>\n",
       "      <td>1.267419e+09</td>\n",
       "      <td>130</td>\n",
       "      <td>64</td>\n",
       "      <td>234</td>\n",
       "      <td>purple</td>\n",
       "    </tr>\n",
       "    <tr>\n",
       "      <th>4</th>\n",
       "      <td>5</td>\n",
       "      <td>2</td>\n",
       "      <td>1.267419e+09</td>\n",
       "      <td>75</td>\n",
       "      <td>49</td>\n",
       "      <td>234</td>\n",
       "      <td>blue</td>\n",
       "    </tr>\n",
       "  </tbody>\n",
       "</table>\n",
       "</div>"
      ],
      "text/plain": [
       "   id  user_id     datestamp    r    g    b     colorname\n",
       "0   1        1  1.267419e+09   72  100  175   pastel blue\n",
       "1   2        1  1.267419e+09  204  177  246  faint violet\n",
       "2   3        1  1.267419e+09  182  226  245     baby blue\n",
       "3   4        1  1.267419e+09  130   64  234        purple\n",
       "4   5        2  1.267419e+09   75   49  234          blue"
      ]
     },
     "execution_count": 7,
     "metadata": {},
     "output_type": "execute_result"
    }
   ],
   "source": [
    "colours.head()"
   ]
  },
  {
   "cell_type": "code",
   "execution_count": 8,
   "metadata": {},
   "outputs": [
    {
     "name": "stdout",
     "output_type": "stream",
     "text": [
      "<class 'pandas.core.frame.DataFrame'>\n",
      "RangeIndex: 3363127 entries, 0 to 3363126\n",
      "Data columns (total 7 columns):\n",
      "id           int64\n",
      "user_id      int64\n",
      "datestamp    float64\n",
      "r            int64\n",
      "g            int64\n",
      "b            int64\n",
      "colorname    object\n",
      "dtypes: float64(1), int64(5), object(1)\n",
      "memory usage: 179.6+ MB\n"
     ]
    }
   ],
   "source": [
    "colours.info()"
   ]
  },
  {
   "cell_type": "code",
   "execution_count": 9,
   "metadata": {},
   "outputs": [],
   "source": [
    "#converting date as datetime\n",
    "from datetime import datetime\n",
    "colours['datestamp'] = pd.to_datetime(colours['datestamp'],unit='s')"
   ]
  },
  {
   "cell_type": "code",
   "execution_count": 10,
   "metadata": {},
   "outputs": [],
   "source": [
    "#extracting new colours to dataframe\n",
    "new_colour = pd.DataFrame()"
   ]
  },
  {
   "cell_type": "code",
   "execution_count": 11,
   "metadata": {},
   "outputs": [],
   "source": [
    "new_colour = colours[colours['colorname'] == 'impatiens juice'].copy()"
   ]
  },
  {
   "cell_type": "code",
   "execution_count": 12,
   "metadata": {},
   "outputs": [],
   "source": [
    "new_colour = colours[colours['colorname'] == 'caribbean surf'].append(new_colour)"
   ]
  },
  {
   "cell_type": "code",
   "execution_count": 13,
   "metadata": {},
   "outputs": [],
   "source": [
    "new_colour = colours[colours['colorname'] == 'medium tan leather'].append(new_colour)"
   ]
  },
  {
   "cell_type": "code",
   "execution_count": 14,
   "metadata": {},
   "outputs": [],
   "source": [
    "new_colour = colours[colours['colorname'] == 'babypoo'].append(new_colour)"
   ]
  },
  {
   "cell_type": "code",
   "execution_count": 15,
   "metadata": {},
   "outputs": [],
   "source": [
    "#increasing th\n",
    "new_colour = new_colour.append([new_colour]*10)"
   ]
  },
  {
   "cell_type": "code",
   "execution_count": 16,
   "metadata": {},
   "outputs": [
    {
     "name": "stdout",
     "output_type": "stream",
     "text": [
      "<class 'pandas.core.frame.DataFrame'>\n",
      "Int64Index: 88 entries, 185291 to 3170468\n",
      "Data columns (total 7 columns):\n",
      "id           88 non-null int64\n",
      "user_id      88 non-null int64\n",
      "datestamp    88 non-null datetime64[ns]\n",
      "r            88 non-null int64\n",
      "g            88 non-null int64\n",
      "b            88 non-null int64\n",
      "colorname    88 non-null object\n",
      "dtypes: datetime64[ns](1), int64(5), object(1)\n",
      "memory usage: 5.5+ KB\n"
     ]
    }
   ],
   "source": [
    "new_colour.info()"
   ]
  },
  {
   "cell_type": "code",
   "execution_count": 17,
   "metadata": {},
   "outputs": [],
   "source": [
    "colours = colours.groupby('colorname').filter(lambda x: len(x) > 11)"
   ]
  },
  {
   "cell_type": "code",
   "execution_count": 18,
   "metadata": {},
   "outputs": [],
   "source": [
    "colours = pd.concat([colours,new_colour],ignore_index=True)"
   ]
  },
  {
   "cell_type": "code",
   "execution_count": 19,
   "metadata": {},
   "outputs": [
    {
     "data": {
      "text/plain": [
       "green                       310064\n",
       "blue                        284220\n",
       "purple                      245832\n",
       "pink                        129286\n",
       "brown                        74782\n",
       "red                          68985\n",
       "light blue                   57381\n",
       "teal                         56336\n",
       "orange                       51449\n",
       "light green                  49073\n",
       "yellow                       43494\n",
       "magenta                      43139\n",
       "grey                         35664\n",
       "sky blue                     34043\n",
       "violet                       32407\n",
       "lime green                   30918\n",
       "light purple                 29221\n",
       "turquoise                    25925\n",
       "lavender                     25447\n",
       "cyan                         24421\n",
       "tan                          23710\n",
       "dark green                   23624\n",
       "dark blue                    23116\n",
       "aqua                         23036\n",
       "forest green                 19112\n",
       "mauve                        18899\n",
       "bright green                 18578\n",
       "gray                         18003\n",
       "olive                        17339\n",
       "dark purple                  16653\n",
       "                             ...  \n",
       "magenta-violet                  12\n",
       "army blue                       12\n",
       "purplish white                  12\n",
       "forget me not blue              12\n",
       "international klein blue        12\n",
       "blue blue green                 12\n",
       "stoplight green                 12\n",
       "intense                         12\n",
       "icky purple                     12\n",
       "bluish aqua                     12\n",
       "pale cerulean                   12\n",
       "light-violet                    12\n",
       "fluorecent green                12\n",
       "faded peach                     12\n",
       "dh                              12\n",
       "prune purple                    12\n",
       "unicorn                         12\n",
       "nausea                          12\n",
       "mov                             12\n",
       "gb                              12\n",
       "hot hot pink                    12\n",
       "evening                         12\n",
       "light reddish orange            12\n",
       "darkorange                      12\n",
       "slimey green                    12\n",
       "light dusty purple              12\n",
       "grey white                      12\n",
       "medium tan leather              11\n",
       "caribbean surf                  11\n",
       "impatiens juice                 11\n",
       "Name: colorname, Length: 6754, dtype: int64"
      ]
     },
     "execution_count": 19,
     "metadata": {},
     "output_type": "execute_result"
    }
   ],
   "source": [
    "colours['colorname'].value_counts()"
   ]
  },
  {
   "cell_type": "code",
   "execution_count": 20,
   "metadata": {},
   "outputs": [],
   "source": [
    "colours = colours.sample(frac = 1,random_state= 10).reset_index(drop = True)"
   ]
  },
  {
   "cell_type": "code",
   "execution_count": 21,
   "metadata": {},
   "outputs": [],
   "source": [
    "colours_small = colours.sample(100000,random_state= 10)"
   ]
  },
  {
   "cell_type": "code",
   "execution_count": 22,
   "metadata": {},
   "outputs": [
    {
     "data": {
      "text/html": [
       "<div>\n",
       "<style scoped>\n",
       "    .dataframe tbody tr th:only-of-type {\n",
       "        vertical-align: middle;\n",
       "    }\n",
       "\n",
       "    .dataframe tbody tr th {\n",
       "        vertical-align: top;\n",
       "    }\n",
       "\n",
       "    .dataframe thead th {\n",
       "        text-align: right;\n",
       "    }\n",
       "</style>\n",
       "<table border=\"1\" class=\"dataframe\">\n",
       "  <thead>\n",
       "    <tr style=\"text-align: right;\">\n",
       "      <th></th>\n",
       "      <th>id</th>\n",
       "      <th>user_id</th>\n",
       "      <th>datestamp</th>\n",
       "      <th>r</th>\n",
       "      <th>g</th>\n",
       "      <th>b</th>\n",
       "      <th>colorname</th>\n",
       "    </tr>\n",
       "  </thead>\n",
       "  <tbody>\n",
       "    <tr>\n",
       "      <th>2883924</th>\n",
       "      <td>290597</td>\n",
       "      <td>14286</td>\n",
       "      <td>2010-03-02 02:52:29</td>\n",
       "      <td>252</td>\n",
       "      <td>83</td>\n",
       "      <td>53</td>\n",
       "      <td>orange</td>\n",
       "    </tr>\n",
       "    <tr>\n",
       "      <th>518997</th>\n",
       "      <td>2630753</td>\n",
       "      <td>118140</td>\n",
       "      <td>2010-03-22 15:11:27</td>\n",
       "      <td>207</td>\n",
       "      <td>80</td>\n",
       "      <td>247</td>\n",
       "      <td>purple</td>\n",
       "    </tr>\n",
       "    <tr>\n",
       "      <th>637323</th>\n",
       "      <td>2416320</td>\n",
       "      <td>108706</td>\n",
       "      <td>2010-03-19 09:59:58</td>\n",
       "      <td>197</td>\n",
       "      <td>139</td>\n",
       "      <td>217</td>\n",
       "      <td>mauve</td>\n",
       "    </tr>\n",
       "    <tr>\n",
       "      <th>1128570</th>\n",
       "      <td>3071184</td>\n",
       "      <td>136868</td>\n",
       "      <td>2010-03-29 09:40:18</td>\n",
       "      <td>130</td>\n",
       "      <td>91</td>\n",
       "      <td>197</td>\n",
       "      <td>purple</td>\n",
       "    </tr>\n",
       "    <tr>\n",
       "      <th>1924913</th>\n",
       "      <td>280867</td>\n",
       "      <td>13855</td>\n",
       "      <td>2010-03-02 02:14:36</td>\n",
       "      <td>64</td>\n",
       "      <td>170</td>\n",
       "      <td>51</td>\n",
       "      <td>green</td>\n",
       "    </tr>\n",
       "  </tbody>\n",
       "</table>\n",
       "</div>"
      ],
      "text/plain": [
       "              id  user_id           datestamp    r    g    b colorname\n",
       "2883924   290597    14286 2010-03-02 02:52:29  252   83   53    orange\n",
       "518997   2630753   118140 2010-03-22 15:11:27  207   80  247    purple\n",
       "637323   2416320   108706 2010-03-19 09:59:58  197  139  217     mauve\n",
       "1128570  3071184   136868 2010-03-29 09:40:18  130   91  197    purple\n",
       "1924913   280867    13855 2010-03-02 02:14:36   64  170   51     green"
      ]
     },
     "execution_count": 22,
     "metadata": {},
     "output_type": "execute_result"
    }
   ],
   "source": [
    "colours_small.head()"
   ]
  },
  {
   "cell_type": "code",
   "execution_count": 23,
   "metadata": {},
   "outputs": [],
   "source": [
    "colours_small['color_green'] = np.where(colours_small['colorname'].str.contains('gree'), 1, 0)"
   ]
  },
  {
   "cell_type": "code",
   "execution_count": 24,
   "metadata": {},
   "outputs": [],
   "source": [
    "colours_small['color_red'] = np.where(colours_small['colorname'].str.contains('red'), 1, 0)"
   ]
  },
  {
   "cell_type": "code",
   "execution_count": 25,
   "metadata": {},
   "outputs": [],
   "source": [
    "colours_small['color_blue'] = np.where(colours_small['colorname'].str.contains('blue'), 1, 0)"
   ]
  },
  {
   "cell_type": "code",
   "execution_count": 26,
   "metadata": {},
   "outputs": [],
   "source": [
    "colours_small['color_yellow'] = np.where(colours_small['colorname'].str.contains('yellow'), 1, 0)"
   ]
  },
  {
   "cell_type": "code",
   "execution_count": 27,
   "metadata": {},
   "outputs": [],
   "source": [
    "colours_small['color_purple'] = np.where(colours_small['colorname'].str.contains('purple'), 1, 0)"
   ]
  },
  {
   "cell_type": "code",
   "execution_count": 28,
   "metadata": {},
   "outputs": [],
   "source": [
    "colours_small['color_tan'] = np.where(colours_small['colorname'].str.contains('tan'), 1, 0)"
   ]
  },
  {
   "cell_type": "code",
   "execution_count": 29,
   "metadata": {},
   "outputs": [],
   "source": [
    "colours_small['color_gray'] = np.where(colours_small['colorname'].str.contains('gray'), 1, 0)"
   ]
  },
  {
   "cell_type": "code",
   "execution_count": 30,
   "metadata": {},
   "outputs": [],
   "source": [
    "colours_small['color_pink'] = np.where(colours_small['colorname'].str.contains('pink'), 1, 0)"
   ]
  },
  {
   "cell_type": "code",
   "execution_count": 31,
   "metadata": {},
   "outputs": [
    {
     "data": {
      "text/html": [
       "<div>\n",
       "<style scoped>\n",
       "    .dataframe tbody tr th:only-of-type {\n",
       "        vertical-align: middle;\n",
       "    }\n",
       "\n",
       "    .dataframe tbody tr th {\n",
       "        vertical-align: top;\n",
       "    }\n",
       "\n",
       "    .dataframe thead th {\n",
       "        text-align: right;\n",
       "    }\n",
       "</style>\n",
       "<table border=\"1\" class=\"dataframe\">\n",
       "  <thead>\n",
       "    <tr style=\"text-align: right;\">\n",
       "      <th></th>\n",
       "      <th>id</th>\n",
       "      <th>user_id</th>\n",
       "      <th>datestamp</th>\n",
       "      <th>r</th>\n",
       "      <th>g</th>\n",
       "      <th>b</th>\n",
       "      <th>colorname</th>\n",
       "      <th>color_green</th>\n",
       "      <th>color_red</th>\n",
       "      <th>color_blue</th>\n",
       "      <th>color_yellow</th>\n",
       "      <th>color_purple</th>\n",
       "      <th>color_tan</th>\n",
       "      <th>color_gray</th>\n",
       "      <th>color_pink</th>\n",
       "    </tr>\n",
       "  </thead>\n",
       "  <tbody>\n",
       "    <tr>\n",
       "      <th>2883924</th>\n",
       "      <td>290597</td>\n",
       "      <td>14286</td>\n",
       "      <td>2010-03-02 02:52:29</td>\n",
       "      <td>252</td>\n",
       "      <td>83</td>\n",
       "      <td>53</td>\n",
       "      <td>orange</td>\n",
       "      <td>0</td>\n",
       "      <td>0</td>\n",
       "      <td>0</td>\n",
       "      <td>0</td>\n",
       "      <td>0</td>\n",
       "      <td>0</td>\n",
       "      <td>0</td>\n",
       "      <td>0</td>\n",
       "    </tr>\n",
       "    <tr>\n",
       "      <th>518997</th>\n",
       "      <td>2630753</td>\n",
       "      <td>118140</td>\n",
       "      <td>2010-03-22 15:11:27</td>\n",
       "      <td>207</td>\n",
       "      <td>80</td>\n",
       "      <td>247</td>\n",
       "      <td>purple</td>\n",
       "      <td>0</td>\n",
       "      <td>0</td>\n",
       "      <td>0</td>\n",
       "      <td>0</td>\n",
       "      <td>1</td>\n",
       "      <td>0</td>\n",
       "      <td>0</td>\n",
       "      <td>0</td>\n",
       "    </tr>\n",
       "    <tr>\n",
       "      <th>637323</th>\n",
       "      <td>2416320</td>\n",
       "      <td>108706</td>\n",
       "      <td>2010-03-19 09:59:58</td>\n",
       "      <td>197</td>\n",
       "      <td>139</td>\n",
       "      <td>217</td>\n",
       "      <td>mauve</td>\n",
       "      <td>0</td>\n",
       "      <td>0</td>\n",
       "      <td>0</td>\n",
       "      <td>0</td>\n",
       "      <td>0</td>\n",
       "      <td>0</td>\n",
       "      <td>0</td>\n",
       "      <td>0</td>\n",
       "    </tr>\n",
       "    <tr>\n",
       "      <th>1128570</th>\n",
       "      <td>3071184</td>\n",
       "      <td>136868</td>\n",
       "      <td>2010-03-29 09:40:18</td>\n",
       "      <td>130</td>\n",
       "      <td>91</td>\n",
       "      <td>197</td>\n",
       "      <td>purple</td>\n",
       "      <td>0</td>\n",
       "      <td>0</td>\n",
       "      <td>0</td>\n",
       "      <td>0</td>\n",
       "      <td>1</td>\n",
       "      <td>0</td>\n",
       "      <td>0</td>\n",
       "      <td>0</td>\n",
       "    </tr>\n",
       "    <tr>\n",
       "      <th>1924913</th>\n",
       "      <td>280867</td>\n",
       "      <td>13855</td>\n",
       "      <td>2010-03-02 02:14:36</td>\n",
       "      <td>64</td>\n",
       "      <td>170</td>\n",
       "      <td>51</td>\n",
       "      <td>green</td>\n",
       "      <td>1</td>\n",
       "      <td>0</td>\n",
       "      <td>0</td>\n",
       "      <td>0</td>\n",
       "      <td>0</td>\n",
       "      <td>0</td>\n",
       "      <td>0</td>\n",
       "      <td>0</td>\n",
       "    </tr>\n",
       "  </tbody>\n",
       "</table>\n",
       "</div>"
      ],
      "text/plain": [
       "              id  user_id           datestamp    r    g    b colorname  \\\n",
       "2883924   290597    14286 2010-03-02 02:52:29  252   83   53    orange   \n",
       "518997   2630753   118140 2010-03-22 15:11:27  207   80  247    purple   \n",
       "637323   2416320   108706 2010-03-19 09:59:58  197  139  217     mauve   \n",
       "1128570  3071184   136868 2010-03-29 09:40:18  130   91  197    purple   \n",
       "1924913   280867    13855 2010-03-02 02:14:36   64  170   51     green   \n",
       "\n",
       "         color_green  color_red  color_blue  color_yellow  color_purple  \\\n",
       "2883924            0          0           0             0             0   \n",
       "518997             0          0           0             0             1   \n",
       "637323             0          0           0             0             0   \n",
       "1128570            0          0           0             0             1   \n",
       "1924913            1          0           0             0             0   \n",
       "\n",
       "         color_tan  color_gray  color_pink  \n",
       "2883924          0           0           0  \n",
       "518997           0           0           0  \n",
       "637323           0           0           0  \n",
       "1128570          0           0           0  \n",
       "1924913          0           0           0  "
      ]
     },
     "execution_count": 31,
     "metadata": {},
     "output_type": "execute_result"
    }
   ],
   "source": [
    "colours_small.head()"
   ]
  },
  {
   "cell_type": "code",
   "execution_count": 32,
   "metadata": {},
   "outputs": [],
   "source": [
    "#x is the input features\n",
    "train = np.array(colours_small.drop(['colorname','datestamp'],1))\n",
    "#y is the target \n",
    "target = np.array(colours_small['colorname'])"
   ]
  },
  {
   "cell_type": "code",
   "execution_count": 33,
   "metadata": {},
   "outputs": [],
   "source": [
    "train_data, test_data,train_target, test_target = train_test_split(train,target,test_size=0.33, random_state=0)"
   ]
  },
  {
   "cell_type": "code",
   "execution_count": 34,
   "metadata": {},
   "outputs": [],
   "source": [
    "rf = RandomForestClassifier(max_features='auto', max_depth=4 , min_samples_leaf= 4, max_leaf_nodes= 8,n_estimators=1500,random_state=47)"
   ]
  },
  {
   "cell_type": "code",
   "execution_count": 35,
   "metadata": {},
   "outputs": [],
   "source": [
    "pca_rf = Pipeline([('preprocessing', StandardScaler()),('pca', PCA(n_components= 'mle')), ('classifier', rf)])"
   ]
  },
  {
   "cell_type": "code",
   "execution_count": 36,
   "metadata": {},
   "outputs": [
    {
     "data": {
      "text/plain": [
       "Pipeline(memory=None,\n",
       "     steps=[('preprocessing', StandardScaler(copy=True, with_mean=True, with_std=True)), ('pca', PCA(copy=True, iterated_power='auto', n_components='mle', random_state=None,\n",
       "  svd_solver='auto', tol=0.0, whiten=False)), ('classifier', RandomForestClassifier(bootstrap=True, class_weight=None, criterion='g...tors=1500, n_jobs=None,\n",
       "            oob_score=False, random_state=47, verbose=0, warm_start=False))])"
      ]
     },
     "execution_count": 36,
     "metadata": {},
     "output_type": "execute_result"
    }
   ],
   "source": [
    "pca_rf.fit(train_data,train_target)"
   ]
  },
  {
   "cell_type": "code",
   "execution_count": 37,
   "metadata": {},
   "outputs": [],
   "source": [
    "pred = pca_rf.predict(test_data)"
   ]
  },
  {
   "cell_type": "code",
   "execution_count": 38,
   "metadata": {},
   "outputs": [
    {
     "name": "stdout",
     "output_type": "stream",
     "text": [
      "Accuracy: 40.621212\n"
     ]
    }
   ],
   "source": [
    "score = pca_rf.score(test_data,test_target)*100\n",
    "print(\"Accuracy: %f\" % (score))"
   ]
  },
  {
   "cell_type": "code",
   "execution_count": 39,
   "metadata": {},
   "outputs": [],
   "source": [
    "#!pip install squarify"
   ]
  },
  {
   "cell_type": "code",
   "execution_count": 40,
   "metadata": {},
   "outputs": [
    {
     "data": {
      "image/png": "[encoded data removed]",
      "text/plain": [
       "<Figure size 432x288 with 1 Axes>"
      ]
     },
     "metadata": {},
     "output_type": "display_data"
    }
   ],
   "source": [
    "squarify.plot(sizes = [10]*100, label=pred[:100] ,color = pred[:100])\n",
    "plt.axis('off')\n",
    "plt.show()\n"
   ]
  },
  {
   "cell_type": "code",
   "execution_count": null,
   "metadata": {},
   "outputs": [],
   "source": []
  }
 ],
 "metadata": {
  "kernelspec": {
   "display_name": "Python 3",
   "language": "python",
   "name": "python3"
  },
  "language_info": {
   "codemirror_mode": {
    "name": "ipython",
    "version": 3
   },
   "file_extension": ".py",
   "mimetype": "text/x-python",
   "name": "python",
   "nbconvert_exporter": "python",
   "pygments_lexer": "ipython3",
   "version": "3.6.5"
  }
 },
 "nbformat": 4,
 "nbformat_minor": 2
}
