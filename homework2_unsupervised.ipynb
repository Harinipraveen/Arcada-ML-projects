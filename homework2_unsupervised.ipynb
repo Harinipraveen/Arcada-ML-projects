{
 "cells": [
  {
   "cell_type": "markdown",
   "metadata": {},
   "source": [
    "# Unsupervised algorithms"
   ]
  },
  {
   "cell_type": "code",
   "execution_count": 1,
   "metadata": {},
   "outputs": [],
   "source": [
    "#importing libraries\n",
    "import pandas as pd\n",
    "import numpy as np"
   ]
  },
  {
   "cell_type": "code",
   "execution_count": 2,
   "metadata": {},
   "outputs": [],
   "source": [
    "filename = 'abalone.data'"
   ]
  },
  {
   "cell_type": "code",
   "execution_count": 3,
   "metadata": {},
   "outputs": [],
   "source": [
    "df = pd.DataFrame()"
   ]
  },
  {
   "cell_type": "code",
   "execution_count": 4,
   "metadata": {},
   "outputs": [],
   "source": [
    "#creating columns\n",
    "names = [ 'Sex', 'Length', 'Diameter', 'Height', 'Whole weight', 'Shucked weight', 'Viscera weight', 'Shell weight', 'Rings']"
   ]
  },
  {
   "cell_type": "code",
   "execution_count": 5,
   "metadata": {},
   "outputs": [],
   "source": [
    "#importing dataset\n",
    "df =  pd.read_csv(filename ,names = names, delimiter=',')"
   ]
  },
  {
   "cell_type": "code",
   "execution_count": 6,
   "metadata": {},
   "outputs": [
    {
     "data": {
      "text/html": [
       "<div>\n",
       "<style scoped>\n",
       "    .dataframe tbody tr th:only-of-type {\n",
       "        vertical-align: middle;\n",
       "    }\n",
       "\n",
       "    .dataframe tbody tr th {\n",
       "        vertical-align: top;\n",
       "    }\n",
       "\n",
       "    .dataframe thead th {\n",
       "        text-align: right;\n",
       "    }\n",
       "</style>\n",
       "<table border=\"1\" class=\"dataframe\">\n",
       "  <thead>\n",
       "    <tr style=\"text-align: right;\">\n",
       "      <th></th>\n",
       "      <th>Sex</th>\n",
       "      <th>Length</th>\n",
       "      <th>Diameter</th>\n",
       "      <th>Height</th>\n",
       "      <th>Whole weight</th>\n",
       "      <th>Shucked weight</th>\n",
       "      <th>Viscera weight</th>\n",
       "      <th>Shell weight</th>\n",
       "      <th>Rings</th>\n",
       "    </tr>\n",
       "  </thead>\n",
       "  <tbody>\n",
       "    <tr>\n",
       "      <th>0</th>\n",
       "      <td>M</td>\n",
       "      <td>0.455</td>\n",
       "      <td>0.365</td>\n",
       "      <td>0.095</td>\n",
       "      <td>0.5140</td>\n",
       "      <td>0.2245</td>\n",
       "      <td>0.1010</td>\n",
       "      <td>0.150</td>\n",
       "      <td>15</td>\n",
       "    </tr>\n",
       "    <tr>\n",
       "      <th>1</th>\n",
       "      <td>M</td>\n",
       "      <td>0.350</td>\n",
       "      <td>0.265</td>\n",
       "      <td>0.090</td>\n",
       "      <td>0.2255</td>\n",
       "      <td>0.0995</td>\n",
       "      <td>0.0485</td>\n",
       "      <td>0.070</td>\n",
       "      <td>7</td>\n",
       "    </tr>\n",
       "    <tr>\n",
       "      <th>2</th>\n",
       "      <td>F</td>\n",
       "      <td>0.530</td>\n",
       "      <td>0.420</td>\n",
       "      <td>0.135</td>\n",
       "      <td>0.6770</td>\n",
       "      <td>0.2565</td>\n",
       "      <td>0.1415</td>\n",
       "      <td>0.210</td>\n",
       "      <td>9</td>\n",
       "    </tr>\n",
       "    <tr>\n",
       "      <th>3</th>\n",
       "      <td>M</td>\n",
       "      <td>0.440</td>\n",
       "      <td>0.365</td>\n",
       "      <td>0.125</td>\n",
       "      <td>0.5160</td>\n",
       "      <td>0.2155</td>\n",
       "      <td>0.1140</td>\n",
       "      <td>0.155</td>\n",
       "      <td>10</td>\n",
       "    </tr>\n",
       "    <tr>\n",
       "      <th>4</th>\n",
       "      <td>I</td>\n",
       "      <td>0.330</td>\n",
       "      <td>0.255</td>\n",
       "      <td>0.080</td>\n",
       "      <td>0.2050</td>\n",
       "      <td>0.0895</td>\n",
       "      <td>0.0395</td>\n",
       "      <td>0.055</td>\n",
       "      <td>7</td>\n",
       "    </tr>\n",
       "  </tbody>\n",
       "</table>\n",
       "</div>"
      ],
      "text/plain": [
       "  Sex  Length  Diameter  Height  Whole weight  Shucked weight  Viscera weight  \\\n",
       "0   M   0.455     0.365   0.095        0.5140          0.2245          0.1010   \n",
       "1   M   0.350     0.265   0.090        0.2255          0.0995          0.0485   \n",
       "2   F   0.530     0.420   0.135        0.6770          0.2565          0.1415   \n",
       "3   M   0.440     0.365   0.125        0.5160          0.2155          0.1140   \n",
       "4   I   0.330     0.255   0.080        0.2050          0.0895          0.0395   \n",
       "\n",
       "   Shell weight  Rings  \n",
       "0         0.150     15  \n",
       "1         0.070      7  \n",
       "2         0.210      9  \n",
       "3         0.155     10  \n",
       "4         0.055      7  "
      ]
     },
     "execution_count": 6,
     "metadata": {},
     "output_type": "execute_result"
    }
   ],
   "source": [
    "df.head()"
   ]
  },
  {
   "cell_type": "code",
   "execution_count": 7,
   "metadata": {},
   "outputs": [],
   "source": [
    "#replacing alphabetical values with numerical values\n",
    "replace_list = {\"Sex\" : {\"M\": 0, \"F\" : 1, \"I\": 2}}\n",
    "df.replace(replace_list,inplace=True)"
   ]
  },
  {
   "cell_type": "code",
   "execution_count": 8,
   "metadata": {},
   "outputs": [],
   "source": [
    "#calculating age\n",
    "#df['age'] = df['Rings'] + 1.5"
   ]
  },
  {
   "cell_type": "code",
   "execution_count": 9,
   "metadata": {},
   "outputs": [
    {
     "data": {
      "text/html": [
       "<div>\n",
       "<style scoped>\n",
       "    .dataframe tbody tr th:only-of-type {\n",
       "        vertical-align: middle;\n",
       "    }\n",
       "\n",
       "    .dataframe tbody tr th {\n",
       "        vertical-align: top;\n",
       "    }\n",
       "\n",
       "    .dataframe thead th {\n",
       "        text-align: right;\n",
       "    }\n",
       "</style>\n",
       "<table border=\"1\" class=\"dataframe\">\n",
       "  <thead>\n",
       "    <tr style=\"text-align: right;\">\n",
       "      <th></th>\n",
       "      <th>Sex</th>\n",
       "      <th>Length</th>\n",
       "      <th>Diameter</th>\n",
       "      <th>Height</th>\n",
       "      <th>Whole weight</th>\n",
       "      <th>Shucked weight</th>\n",
       "      <th>Viscera weight</th>\n",
       "      <th>Shell weight</th>\n",
       "      <th>Rings</th>\n",
       "    </tr>\n",
       "  </thead>\n",
       "  <tbody>\n",
       "    <tr>\n",
       "      <th>0</th>\n",
       "      <td>0</td>\n",
       "      <td>0.455</td>\n",
       "      <td>0.365</td>\n",
       "      <td>0.095</td>\n",
       "      <td>0.5140</td>\n",
       "      <td>0.2245</td>\n",
       "      <td>0.1010</td>\n",
       "      <td>0.150</td>\n",
       "      <td>15</td>\n",
       "    </tr>\n",
       "    <tr>\n",
       "      <th>1</th>\n",
       "      <td>0</td>\n",
       "      <td>0.350</td>\n",
       "      <td>0.265</td>\n",
       "      <td>0.090</td>\n",
       "      <td>0.2255</td>\n",
       "      <td>0.0995</td>\n",
       "      <td>0.0485</td>\n",
       "      <td>0.070</td>\n",
       "      <td>7</td>\n",
       "    </tr>\n",
       "    <tr>\n",
       "      <th>2</th>\n",
       "      <td>1</td>\n",
       "      <td>0.530</td>\n",
       "      <td>0.420</td>\n",
       "      <td>0.135</td>\n",
       "      <td>0.6770</td>\n",
       "      <td>0.2565</td>\n",
       "      <td>0.1415</td>\n",
       "      <td>0.210</td>\n",
       "      <td>9</td>\n",
       "    </tr>\n",
       "    <tr>\n",
       "      <th>3</th>\n",
       "      <td>0</td>\n",
       "      <td>0.440</td>\n",
       "      <td>0.365</td>\n",
       "      <td>0.125</td>\n",
       "      <td>0.5160</td>\n",
       "      <td>0.2155</td>\n",
       "      <td>0.1140</td>\n",
       "      <td>0.155</td>\n",
       "      <td>10</td>\n",
       "    </tr>\n",
       "    <tr>\n",
       "      <th>4</th>\n",
       "      <td>2</td>\n",
       "      <td>0.330</td>\n",
       "      <td>0.255</td>\n",
       "      <td>0.080</td>\n",
       "      <td>0.2050</td>\n",
       "      <td>0.0895</td>\n",
       "      <td>0.0395</td>\n",
       "      <td>0.055</td>\n",
       "      <td>7</td>\n",
       "    </tr>\n",
       "  </tbody>\n",
       "</table>\n",
       "</div>"
      ],
      "text/plain": [
       "   Sex  Length  Diameter  Height  Whole weight  Shucked weight  \\\n",
       "0    0   0.455     0.365   0.095        0.5140          0.2245   \n",
       "1    0   0.350     0.265   0.090        0.2255          0.0995   \n",
       "2    1   0.530     0.420   0.135        0.6770          0.2565   \n",
       "3    0   0.440     0.365   0.125        0.5160          0.2155   \n",
       "4    2   0.330     0.255   0.080        0.2050          0.0895   \n",
       "\n",
       "   Viscera weight  Shell weight  Rings  \n",
       "0          0.1010         0.150     15  \n",
       "1          0.0485         0.070      7  \n",
       "2          0.1415         0.210      9  \n",
       "3          0.1140         0.155     10  \n",
       "4          0.0395         0.055      7  "
      ]
     },
     "execution_count": 9,
     "metadata": {},
     "output_type": "execute_result"
    }
   ],
   "source": [
    "df.head()"
   ]
  },
  {
   "cell_type": "code",
   "execution_count": 10,
   "metadata": {},
   "outputs": [],
   "source": [
    "#assigning input array\n",
    "x_df = df.iloc[:,:9].values"
   ]
  },
  {
   "cell_type": "code",
   "execution_count": 11,
   "metadata": {},
   "outputs": [],
   "source": [
    "#normalizing values before applying clustering method\n",
    "from sklearn.preprocessing import Normalizer\n",
    "scaler = Normalizer()\n",
    "scaler.fit(x_df)\n",
    "x_scaled = scaler.transform(x_df)"
   ]
  },
  {
   "cell_type": "markdown",
   "metadata": {},
   "source": [
    "# 1.Clustering method : agglomerative or hierarchical clustering"
   ]
  },
  {
   "cell_type": "code",
   "execution_count": 12,
   "metadata": {},
   "outputs": [],
   "source": [
    "from sklearn.cluster import AgglomerativeClustering\n",
    "from sklearn.metrics import silhouette_score"
   ]
  },
  {
   "cell_type": "code",
   "execution_count": 13,
   "metadata": {},
   "outputs": [
    {
     "name": "stdout",
     "output_type": "stream",
     "text": [
      "\n",
      "Clusters present: [0 1]\n",
      "Cluster sizes: [2845 1332]\n",
      "silhouette_score for  2  clusters is :0.595\n",
      "\n",
      "Clusters present: [0 1 2]\n",
      "Cluster sizes: [1332 1528 1317]\n",
      "silhouette_score for  3  clusters is :0.454\n",
      "\n",
      "Clusters present: [0 1 2 3]\n",
      "Cluster sizes: [1528 1167 1317  165]\n",
      "silhouette_score for  4  clusters is :0.455\n",
      "\n",
      "Clusters present: [0 1 2 3 4]\n",
      "Cluster sizes: [1167 1012 1317  165  516]\n",
      "silhouette_score for  5  clusters is :0.426\n",
      "\n",
      "Clusters present: [0 1 2 3 4 5 6]\n",
      "Cluster sizes: [1012  165  684  733  516  483  584]\n",
      "silhouette_score for  7  clusters is :0.413\n",
      "\n",
      "Clusters present: [0 1 2 3 4 5 6 7 8]\n",
      "Cluster sizes: [684 733  65 686 516 483 584 326 100]\n",
      "silhouette_score for  9  clusters is :0.387\n",
      "\n",
      "Clusters present: [ 0  1  2  3  4  5  6  7  8  9 10]\n",
      "Cluster sizes: [733 516 541 686  64 483 584 326 100 143   1]\n",
      "silhouette_score for  11  clusters is :0.374\n",
      "\n",
      "Clusters present: [ 0  1  2  3  4  5  6  7  8  9 10 11 12]\n",
      "Cluster sizes: [584 516 483 686  64 284 449 326 100 143   1 358 183]\n",
      "silhouette_score for  13  clusters is :0.352\n"
     ]
    }
   ],
   "source": [
    "#  Run some clustering method (except k-means) with different number of clusters.\n",
    "# using silhouette_score to measure accuracy.\n",
    "n_clusters = (2,3,4,5,7,9,11,13)\n",
    "for i in n_clusters:\n",
    "    clustering = AgglomerativeClustering(n_clusters=i, linkage = 'ward')\n",
    "    predicted = clustering.fit_predict(x_scaled)\n",
    "    print(\"\\nClusters present: {}\".format(np.unique(predicted)))\n",
    "    print(\"Cluster sizes: {}\".format(np.bincount(predicted)))\n",
    "    print(\"silhouette_score for \", i , ' clusters is :%.3f' %(silhouette_score(x_scaled,predicted)))"
   ]
  },
  {
   "cell_type": "markdown",
   "metadata": {},
   "source": [
    "# 2. KernalPCA for dimension reductionality and Kmeans clustering method for unsupervised training"
   ]
  },
  {
   "cell_type": "code",
   "execution_count": 14,
   "metadata": {},
   "outputs": [],
   "source": [
    "from sklearn.decomposition import KernelPCA\n",
    "from sklearn.preprocessing import StandardScaler"
   ]
  },
  {
   "cell_type": "code",
   "execution_count": 15,
   "metadata": {},
   "outputs": [],
   "source": [
    "# standardising the input features before applying clustering method\n",
    "scaler = StandardScaler().fit(x_df)\n",
    "X_tr = scaler.transform(x_df)"
   ]
  },
  {
   "cell_type": "code",
   "execution_count": 16,
   "metadata": {},
   "outputs": [],
   "source": [
    "pca = KernelPCA(n_components=3, kernel=\"cosine\", fit_inverse_transform= True)\n",
    "X_pca = pca.fit_transform(X_tr)"
   ]
  },
  {
   "cell_type": "code",
   "execution_count": 17,
   "metadata": {},
   "outputs": [
    {
     "name": "stdout",
     "output_type": "stream",
     "text": [
      "Original shape: (4177, 9)\n",
      "Reduced shape: (4177, 3)\n"
     ]
    }
   ],
   "source": [
    "# the shape of the original and reduced dimension \n",
    "print(\"Original shape: {}\".format(str(x_df.shape)))\n",
    "print(\"Reduced shape: {}\".format(str(X_pca.shape)))"
   ]
  },
  {
   "cell_type": "code",
   "execution_count": 18,
   "metadata": {},
   "outputs": [
    {
     "data": {
      "text/plain": [
       "KMeans(algorithm='auto', copy_x=True, init='k-means++', max_iter=300,\n",
       "    n_clusters=10, n_init=10, n_jobs=1, precompute_distances='auto',\n",
       "    random_state=None, tol=0.0001, verbose=0)"
      ]
     },
     "execution_count": 18,
     "metadata": {},
     "output_type": "execute_result"
    }
   ],
   "source": [
    "# fitting by kmeans clustering method\n",
    "from sklearn.cluster import KMeans\n",
    "kmeans = KMeans(n_clusters=10)\n",
    "kmeans.fit(X_pca)\n"
   ]
  },
  {
   "cell_type": "code",
   "execution_count": 19,
   "metadata": {},
   "outputs": [],
   "source": [
    "#inverse transforming the features\n",
    "#X_inv = scaler.inverse_transform(X_tr)"
   ]
  },
  {
   "cell_type": "code",
   "execution_count": 20,
   "metadata": {},
   "outputs": [
    {
     "name": "stdout",
     "output_type": "stream",
     "text": [
      "Cluster labels: [6 4 1 ... 8 7 8]\n"
     ]
    }
   ],
   "source": [
    "#printing cluster labels\n",
    "print(\"Cluster labels:\", (kmeans.labels_))"
   ]
  },
  {
   "cell_type": "code",
   "execution_count": 21,
   "metadata": {},
   "outputs": [],
   "source": [
    "pred_k = kmeans.predict(X_pca)"
   ]
  },
  {
   "cell_type": "code",
   "execution_count": 22,
   "metadata": {},
   "outputs": [
    {
     "name": "stdout",
     "output_type": "stream",
     "text": [
      "coordinates of cluster centre:\n",
      " [[ 0.35891726  0.64357809 -0.37111515]\n",
      " [-0.94866077 -0.11369428 -0.05420928]\n",
      " [ 0.69340829 -0.11367745  0.50851312]\n",
      " [ 0.14733908 -0.23789646 -0.60207329]\n",
      " [-0.63498303  0.66778696 -0.08651183]\n",
      " [ 0.30589517  0.61595544  0.4975331 ]\n",
      " [-0.35247195  0.04404811  0.72243619]\n",
      " [ 0.84091756 -0.30813466 -0.11736684]\n",
      " [ 0.88892184  0.17567227 -0.14869296]\n",
      " [-0.34488204 -0.78309701  0.01581133]]\n"
     ]
    }
   ],
   "source": [
    "#finding the cluster centroids\n",
    "print(\"coordinates of cluster centre:\\n\" , kmeans.cluster_centers_)"
   ]
  },
  {
   "cell_type": "code",
   "execution_count": 23,
   "metadata": {},
   "outputs": [
    {
     "data": {
      "text/plain": [
       "(10, 3)"
      ]
     },
     "execution_count": 23,
     "metadata": {},
     "output_type": "execute_result"
    }
   ],
   "source": [
    "centers = kmeans.cluster_centers_\n",
    "centers.shape"
   ]
  },
  {
   "cell_type": "code",
   "execution_count": 24,
   "metadata": {},
   "outputs": [
    {
     "data": {
      "text/plain": [
       "(10, 9)"
      ]
     },
     "execution_count": 24,
     "metadata": {},
     "output_type": "execute_result"
    }
   ],
   "source": [
    "inverse1 = pca.inverse_transform(centers)\n",
    "inverse1.shape"
   ]
  },
  {
   "cell_type": "code",
   "execution_count": 25,
   "metadata": {},
   "outputs": [
    {
     "data": {
      "text/plain": [
       "(10, 9)"
      ]
     },
     "execution_count": 25,
     "metadata": {},
     "output_type": "execute_result"
    }
   ],
   "source": [
    "inverse2 = scaler.inverse_transform(inverse1)\n",
    "inverse2.shape"
   ]
  },
  {
   "cell_type": "code",
   "execution_count": 26,
   "metadata": {},
   "outputs": [
    {
     "data": {
      "text/html": [
       "<div>\n",
       "<style scoped>\n",
       "    .dataframe tbody tr th:only-of-type {\n",
       "        vertical-align: middle;\n",
       "    }\n",
       "\n",
       "    .dataframe tbody tr th {\n",
       "        vertical-align: top;\n",
       "    }\n",
       "\n",
       "    .dataframe thead th {\n",
       "        text-align: right;\n",
       "    }\n",
       "</style>\n",
       "<table border=\"1\" class=\"dataframe\">\n",
       "  <thead>\n",
       "    <tr style=\"text-align: right;\">\n",
       "      <th></th>\n",
       "      <th>Sex</th>\n",
       "      <th>Length</th>\n",
       "      <th>Diameter</th>\n",
       "      <th>Height</th>\n",
       "      <th>Whole weight</th>\n",
       "      <th>Shucked weight</th>\n",
       "      <th>Viscera weight</th>\n",
       "      <th>Shell weight</th>\n",
       "      <th>Rings</th>\n",
       "    </tr>\n",
       "  </thead>\n",
       "  <tbody>\n",
       "    <tr>\n",
       "      <th>0</th>\n",
       "      <td>-0.423750</td>\n",
       "      <td>0.548219</td>\n",
       "      <td>0.427637</td>\n",
       "      <td>0.143421</td>\n",
       "      <td>0.951345</td>\n",
       "      <td>0.438374</td>\n",
       "      <td>0.210881</td>\n",
       "      <td>0.252723</td>\n",
       "      <td>8.412129</td>\n",
       "    </tr>\n",
       "    <tr>\n",
       "      <th>1</th>\n",
       "      <td>1.689762</td>\n",
       "      <td>0.402771</td>\n",
       "      <td>0.306475</td>\n",
       "      <td>0.100538</td>\n",
       "      <td>0.318317</td>\n",
       "      <td>0.142518</td>\n",
       "      <td>0.068784</td>\n",
       "      <td>0.094988</td>\n",
       "      <td>7.444543</td>\n",
       "    </tr>\n",
       "    <tr>\n",
       "      <th>2</th>\n",
       "      <td>0.743286</td>\n",
       "      <td>0.630704</td>\n",
       "      <td>0.499508</td>\n",
       "      <td>0.179947</td>\n",
       "      <td>1.267789</td>\n",
       "      <td>0.508921</td>\n",
       "      <td>0.273584</td>\n",
       "      <td>0.387509</td>\n",
       "      <td>15.151916</td>\n",
       "    </tr>\n",
       "    <tr>\n",
       "      <th>3</th>\n",
       "      <td>1.199350</td>\n",
       "      <td>0.566677</td>\n",
       "      <td>0.437303</td>\n",
       "      <td>0.140669</td>\n",
       "      <td>1.009119</td>\n",
       "      <td>0.506964</td>\n",
       "      <td>0.224595</td>\n",
       "      <td>0.245400</td>\n",
       "      <td>4.730017</td>\n",
       "    </tr>\n",
       "    <tr>\n",
       "      <th>4</th>\n",
       "      <td>0.357028</td>\n",
       "      <td>0.408018</td>\n",
       "      <td>0.312932</td>\n",
       "      <td>0.103806</td>\n",
       "      <td>0.358517</td>\n",
       "      <td>0.155122</td>\n",
       "      <td>0.078847</td>\n",
       "      <td>0.105657</td>\n",
       "      <td>8.192000</td>\n",
       "    </tr>\n",
       "    <tr>\n",
       "      <th>5</th>\n",
       "      <td>-0.172400</td>\n",
       "      <td>0.540702</td>\n",
       "      <td>0.427041</td>\n",
       "      <td>0.153875</td>\n",
       "      <td>0.908453</td>\n",
       "      <td>0.344913</td>\n",
       "      <td>0.195829</td>\n",
       "      <td>0.289571</td>\n",
       "      <td>14.554925</td>\n",
       "    </tr>\n",
       "    <tr>\n",
       "      <th>6</th>\n",
       "      <td>1.251875</td>\n",
       "      <td>0.465992</td>\n",
       "      <td>0.364845</td>\n",
       "      <td>0.132695</td>\n",
       "      <td>0.577779</td>\n",
       "      <td>0.184484</td>\n",
       "      <td>0.120781</td>\n",
       "      <td>0.211849</td>\n",
       "      <td>14.504957</td>\n",
       "    </tr>\n",
       "    <tr>\n",
       "      <th>7</th>\n",
       "      <td>0.861676</td>\n",
       "      <td>0.655949</td>\n",
       "      <td>0.515906</td>\n",
       "      <td>0.178386</td>\n",
       "      <td>1.376277</td>\n",
       "      <td>0.610058</td>\n",
       "      <td>0.300975</td>\n",
       "      <td>0.383427</td>\n",
       "      <td>10.977938</td>\n",
       "    </tr>\n",
       "    <tr>\n",
       "      <th>8</th>\n",
       "      <td>0.107398</td>\n",
       "      <td>0.639410</td>\n",
       "      <td>0.503438</td>\n",
       "      <td>0.174125</td>\n",
       "      <td>1.318518</td>\n",
       "      <td>0.582468</td>\n",
       "      <td>0.289141</td>\n",
       "      <td>0.366789</td>\n",
       "      <td>11.067973</td>\n",
       "    </tr>\n",
       "    <tr>\n",
       "      <th>9</th>\n",
       "      <td>2.445152</td>\n",
       "      <td>0.509309</td>\n",
       "      <td>0.393274</td>\n",
       "      <td>0.132878</td>\n",
       "      <td>0.747560</td>\n",
       "      <td>0.330942</td>\n",
       "      <td>0.161546</td>\n",
       "      <td>0.215862</td>\n",
       "      <td>8.838415</td>\n",
       "    </tr>\n",
       "  </tbody>\n",
       "</table>\n",
       "</div>"
      ],
      "text/plain": [
       "        Sex    Length  Diameter    Height  Whole weight  Shucked weight  \\\n",
       "0 -0.423750  0.548219  0.427637  0.143421      0.951345        0.438374   \n",
       "1  1.689762  0.402771  0.306475  0.100538      0.318317        0.142518   \n",
       "2  0.743286  0.630704  0.499508  0.179947      1.267789        0.508921   \n",
       "3  1.199350  0.566677  0.437303  0.140669      1.009119        0.506964   \n",
       "4  0.357028  0.408018  0.312932  0.103806      0.358517        0.155122   \n",
       "5 -0.172400  0.540702  0.427041  0.153875      0.908453        0.344913   \n",
       "6  1.251875  0.465992  0.364845  0.132695      0.577779        0.184484   \n",
       "7  0.861676  0.655949  0.515906  0.178386      1.376277        0.610058   \n",
       "8  0.107398  0.639410  0.503438  0.174125      1.318518        0.582468   \n",
       "9  2.445152  0.509309  0.393274  0.132878      0.747560        0.330942   \n",
       "\n",
       "   Viscera weight  Shell weight      Rings  \n",
       "0        0.210881      0.252723   8.412129  \n",
       "1        0.068784      0.094988   7.444543  \n",
       "2        0.273584      0.387509  15.151916  \n",
       "3        0.224595      0.245400   4.730017  \n",
       "4        0.078847      0.105657   8.192000  \n",
       "5        0.195829      0.289571  14.554925  \n",
       "6        0.120781      0.211849  14.504957  \n",
       "7        0.300975      0.383427  10.977938  \n",
       "8        0.289141      0.366789  11.067973  \n",
       "9        0.161546      0.215862   8.838415  "
      ]
     },
     "execution_count": 26,
     "metadata": {},
     "output_type": "execute_result"
    }
   ],
   "source": [
    "X_centers = pd.DataFrame(data=inverse2, columns=df.columns)\n",
    "X_centers"
   ]
  },
  {
   "cell_type": "code",
   "execution_count": 27,
   "metadata": {},
   "outputs": [],
   "source": [
    "#Age of cluster centroids is Rings+1.5\n",
    "X_centers['Age'] = X_centers.Rings + 1.5"
   ]
  },
  {
   "cell_type": "code",
   "execution_count": 28,
   "metadata": {},
   "outputs": [
    {
     "data": {
      "text/plain": [
       "0     9.912129\n",
       "1     8.944543\n",
       "2    16.651916\n",
       "3     6.230017\n",
       "4     9.692000\n",
       "5    16.054925\n",
       "6    16.004957\n",
       "7    12.477938\n",
       "8    12.567973\n",
       "9    10.338415\n",
       "Name: Age, dtype: float64"
      ]
     },
     "execution_count": 28,
     "metadata": {},
     "output_type": "execute_result"
    }
   ],
   "source": [
    "age_cluster_Centroids = X_centers.Age\n",
    "age_cluster_Centroids"
   ]
  },
  {
   "cell_type": "code",
   "execution_count": 30,
   "metadata": {},
   "outputs": [],
   "source": [
    "from sklearn.metrics import pairwise_distances_argmin_min"
   ]
  },
  {
   "cell_type": "code",
   "execution_count": 32,
   "metadata": {
    "scrolled": true
   },
   "outputs": [
    {
     "data": {
      "text/plain": [
       "array([3725, 3717,  502, 2654, 2571,  201,  279, 1030, 1502, 1871],\n",
       "      dtype=int64)"
      ]
     },
     "execution_count": 32,
     "metadata": {},
     "output_type": "execute_result"
    }
   ],
   "source": [
    "#finding the data point closest to the centroids of the clusters\n",
    "closest,_= pairwise_distances_argmin_min(kmeans.cluster_centers_, X_pca)\n",
    "closest"
   ]
  },
  {
   "cell_type": "code",
   "execution_count": 33,
   "metadata": {},
   "outputs": [
    {
     "data": {
      "text/plain": [
       "array([0.    , 0.495 , 0.375 , 0.155 , 0.976 , 0.45  , 0.2285, 0.2475,\n",
       "       9.    ])"
      ]
     },
     "execution_count": 33,
     "metadata": {},
     "output_type": "execute_result"
    }
   ],
   "source": [
    "# x[3725] is the data point closest to the centroid of cluster 0\n",
    "#the age of the data point closest to the centroid 0 is 2.5\n",
    "x_df[3725]"
   ]
  },
  {
   "cell_type": "code",
   "execution_count": 34,
   "metadata": {},
   "outputs": [
    {
     "data": {
      "text/plain": [
       "array([2.    , 0.35  , 0.25  , 0.1   , 0.4015, 0.1725, 0.063 , 0.1255,\n",
       "       7.    ])"
      ]
     },
     "execution_count": 34,
     "metadata": {},
     "output_type": "execute_result"
    }
   ],
   "source": [
    "# x[3717] is the data point closest to the centroid of cluster 1\n",
    "#the age of the data point closest to the centroid 0 is 10.5\n",
    "x_df[3717]"
   ]
  },
  {
   "cell_type": "code",
   "execution_count": 35,
   "metadata": {},
   "outputs": [
    {
     "data": {
      "text/plain": [
       "Sex               2.0000\n",
       "Length            0.3500\n",
       "Diameter          0.2500\n",
       "Height            0.1000\n",
       "Whole weight      0.4015\n",
       "Shucked weight    0.1725\n",
       "Viscera weight    0.0630\n",
       "Shell weight      0.1255\n",
       "Rings             7.0000\n",
       "Name: 3717, dtype: float64"
      ]
     },
     "execution_count": 35,
     "metadata": {},
     "output_type": "execute_result"
    }
   ],
   "source": [
    "#cross checking with the df at the index location mentioned by 'closest' array\n",
    "df.loc[3717]"
   ]
  },
  {
   "cell_type": "markdown",
   "metadata": {},
   "source": [
    "# 3.Gaussian Mixture Model"
   ]
  },
  {
   "cell_type": "markdown",
   "metadata": {},
   "source": [
    "### cluster Abalone dataset without age (rings) feature using Gaussian Mixture Model"
   ]
  },
  {
   "cell_type": "code",
   "execution_count": 73,
   "metadata": {},
   "outputs": [],
   "source": [
    "#defining input array \n",
    "#excluding rings column\n",
    "X_df = np.array(df.drop(['Rings'],1))"
   ]
  },
  {
   "cell_type": "code",
   "execution_count": 74,
   "metadata": {},
   "outputs": [],
   "source": [
    "from sklearn import cluster, datasets, mixture"
   ]
  },
  {
   "cell_type": "code",
   "execution_count": 75,
   "metadata": {},
   "outputs": [],
   "source": [
    "#Normalizing values before applying GMM\n",
    "scaler = Normalizer()\n",
    "scaler.fit(X_df)\n",
    "x_scaled = scaler.transform(X_df)"
   ]
  },
  {
   "cell_type": "code",
   "execution_count": 76,
   "metadata": {},
   "outputs": [],
   "source": [
    "gmm = mixture.GaussianMixture(n_components=12)"
   ]
  },
  {
   "cell_type": "code",
   "execution_count": 77,
   "metadata": {},
   "outputs": [
    {
     "data": {
      "text/plain": [
       "GaussianMixture(covariance_type='full', init_params='kmeans', max_iter=100,\n",
       "        means_init=None, n_components=12, n_init=1, precisions_init=None,\n",
       "        random_state=None, reg_covar=1e-06, tol=0.001, verbose=0,\n",
       "        verbose_interval=10, warm_start=False, weights_init=None)"
      ]
     },
     "execution_count": 77,
     "metadata": {},
     "output_type": "execute_result"
    }
   ],
   "source": [
    "gmm.fit(x_scaled)"
   ]
  },
  {
   "cell_type": "code",
   "execution_count": 78,
   "metadata": {},
   "outputs": [
    {
     "name": "stdout",
     "output_type": "stream",
     "text": [
      "\n",
      "Clusters present: [ 0  1  2  3  4  5  6  7  8  9 10 11]\n",
      "Cluster sizes: [645 339 347 248 250 517 132 174 391 392 234 508]\n"
     ]
    }
   ],
   "source": [
    "pred_gmm = gmm.predict(x_scaled)\n",
    "print(\"\\nClusters present: {}\".format(np.unique(pred_gmm)))\n",
    "print(\"Cluster sizes: {}\".format(np.bincount(pred_gmm)))"
   ]
  },
  {
   "cell_type": "markdown",
   "metadata": {},
   "source": [
    "### Take randomly 20 samples with age from the original Abalone dataset, predict their probabilities with GaussianMM "
   ]
  },
  {
   "cell_type": "code",
   "execution_count": 79,
   "metadata": {},
   "outputs": [],
   "source": [
    "#random sampling of 20 datapoints\n",
    "df_small = pd.read_csv(filename ,names = names, delimiter=',').sample(20)\n",
    "del df_small['Rings']\n",
    "rings = df['Rings'].sample(20)"
   ]
  },
  {
   "cell_type": "code",
   "execution_count": 80,
   "metadata": {},
   "outputs": [],
   "source": [
    "#replacing alphabetical values with numerical values\n",
    "replace_list = {\"Sex\" : {\"M\": 0, \"F\" : 1, \"I\": 2}}\n",
    "df_small.replace(replace_list,inplace=True)"
   ]
  },
  {
   "cell_type": "code",
   "execution_count": 81,
   "metadata": {},
   "outputs": [
    {
     "data": {
      "text/html": [
       "<div>\n",
       "<style scoped>\n",
       "    .dataframe tbody tr th:only-of-type {\n",
       "        vertical-align: middle;\n",
       "    }\n",
       "\n",
       "    .dataframe tbody tr th {\n",
       "        vertical-align: top;\n",
       "    }\n",
       "\n",
       "    .dataframe thead th {\n",
       "        text-align: right;\n",
       "    }\n",
       "</style>\n",
       "<table border=\"1\" class=\"dataframe\">\n",
       "  <thead>\n",
       "    <tr style=\"text-align: right;\">\n",
       "      <th></th>\n",
       "      <th>Sex</th>\n",
       "      <th>Length</th>\n",
       "      <th>Diameter</th>\n",
       "      <th>Height</th>\n",
       "      <th>Whole weight</th>\n",
       "      <th>Shucked weight</th>\n",
       "      <th>Viscera weight</th>\n",
       "      <th>Shell weight</th>\n",
       "    </tr>\n",
       "  </thead>\n",
       "  <tbody>\n",
       "    <tr>\n",
       "      <th>3220</th>\n",
       "      <td>0</td>\n",
       "      <td>0.500</td>\n",
       "      <td>0.400</td>\n",
       "      <td>0.145</td>\n",
       "      <td>0.6025</td>\n",
       "      <td>0.2160</td>\n",
       "      <td>0.1380</td>\n",
       "      <td>0.210</td>\n",
       "    </tr>\n",
       "    <tr>\n",
       "      <th>2484</th>\n",
       "      <td>0</td>\n",
       "      <td>0.460</td>\n",
       "      <td>0.360</td>\n",
       "      <td>0.135</td>\n",
       "      <td>0.6105</td>\n",
       "      <td>0.1955</td>\n",
       "      <td>0.1070</td>\n",
       "      <td>0.235</td>\n",
       "    </tr>\n",
       "    <tr>\n",
       "      <th>490</th>\n",
       "      <td>0</td>\n",
       "      <td>0.590</td>\n",
       "      <td>0.455</td>\n",
       "      <td>0.145</td>\n",
       "      <td>1.0730</td>\n",
       "      <td>0.4750</td>\n",
       "      <td>0.1900</td>\n",
       "      <td>0.285</td>\n",
       "    </tr>\n",
       "    <tr>\n",
       "      <th>3808</th>\n",
       "      <td>0</td>\n",
       "      <td>0.515</td>\n",
       "      <td>0.385</td>\n",
       "      <td>0.130</td>\n",
       "      <td>0.6230</td>\n",
       "      <td>0.2855</td>\n",
       "      <td>0.1285</td>\n",
       "      <td>0.175</td>\n",
       "    </tr>\n",
       "    <tr>\n",
       "      <th>2033</th>\n",
       "      <td>0</td>\n",
       "      <td>0.610</td>\n",
       "      <td>0.490</td>\n",
       "      <td>0.160</td>\n",
       "      <td>1.1120</td>\n",
       "      <td>0.4650</td>\n",
       "      <td>0.2280</td>\n",
       "      <td>0.341</td>\n",
       "    </tr>\n",
       "  </tbody>\n",
       "</table>\n",
       "</div>"
      ],
      "text/plain": [
       "      Sex  Length  Diameter  Height  Whole weight  Shucked weight  \\\n",
       "3220    0   0.500     0.400   0.145        0.6025          0.2160   \n",
       "2484    0   0.460     0.360   0.135        0.6105          0.1955   \n",
       "490     0   0.590     0.455   0.145        1.0730          0.4750   \n",
       "3808    0   0.515     0.385   0.130        0.6230          0.2855   \n",
       "2033    0   0.610     0.490   0.160        1.1120          0.4650   \n",
       "\n",
       "      Viscera weight  Shell weight  \n",
       "3220          0.1380         0.210  \n",
       "2484          0.1070         0.235  \n",
       "490           0.1900         0.285  \n",
       "3808          0.1285         0.175  \n",
       "2033          0.2280         0.341  "
      ]
     },
     "execution_count": 81,
     "metadata": {},
     "output_type": "execute_result"
    }
   ],
   "source": [
    "df_small.head()"
   ]
  },
  {
   "cell_type": "code",
   "execution_count": 82,
   "metadata": {},
   "outputs": [],
   "source": [
    "#including Rings column\n",
    "x_small = np.array(df_small)"
   ]
  },
  {
   "cell_type": "code",
   "execution_count": 83,
   "metadata": {},
   "outputs": [],
   "source": [
    "#Normalizing the values\n",
    "scaler = Normalizer()\n",
    "scaler.fit(x_small)\n",
    "x_scaled = scaler.transform(x_small)"
   ]
  },
  {
   "cell_type": "code",
   "execution_count": 84,
   "metadata": {},
   "outputs": [],
   "source": [
    "gmm1 = mixture.GaussianMixture(n_components=12)"
   ]
  },
  {
   "cell_type": "code",
   "execution_count": 85,
   "metadata": {},
   "outputs": [
    {
     "data": {
      "text/plain": [
       "GaussianMixture(covariance_type='full', init_params='kmeans', max_iter=100,\n",
       "        means_init=None, n_components=12, n_init=1, precisions_init=None,\n",
       "        random_state=None, reg_covar=1e-06, tol=0.001, verbose=0,\n",
       "        verbose_interval=10, warm_start=False, weights_init=None)"
      ]
     },
     "execution_count": 85,
     "metadata": {},
     "output_type": "execute_result"
    }
   ],
   "source": [
    "gmm1.fit(x_scaled)"
   ]
  },
  {
   "cell_type": "code",
   "execution_count": 86,
   "metadata": {},
   "outputs": [],
   "source": [
    "#inverse transforming the features\n",
    "#_inv1 = scaler.inverse_transform(x_scaled)"
   ]
  },
  {
   "cell_type": "code",
   "execution_count": 87,
   "metadata": {},
   "outputs": [],
   "source": [
    "cluster = gmm1.predict_proba(x_scaled)"
   ]
  },
  {
   "cell_type": "code",
   "execution_count": 88,
   "metadata": {},
   "outputs": [
    {
     "data": {
      "text/plain": [
       "array([[0., 0., 0., 0., 0., 0., 0., 0., 1., 0., 0., 0.],\n",
       "       [0., 0., 0., 0., 0., 0., 0., 0., 1., 0., 0., 0.],\n",
       "       [0., 0., 0., 0., 0., 0., 0., 0., 0., 1., 0., 0.],\n",
       "       [0., 0., 0., 1., 0., 0., 0., 0., 0., 0., 0., 0.],\n",
       "       [0., 0., 0., 0., 0., 0., 0., 0., 0., 1., 0., 0.]])"
      ]
     },
     "execution_count": 88,
     "metadata": {},
     "output_type": "execute_result"
    }
   ],
   "source": [
    "cluster[:5]"
   ]
  },
  {
   "cell_type": "code",
   "execution_count": 89,
   "metadata": {},
   "outputs": [],
   "source": [
    "#Transform 'Rings' to multiple class\n",
    "rings=pd.get_dummies(rings)\n",
    "ring_values= np.array(rings.columns)"
   ]
  },
  {
   "cell_type": "code",
   "execution_count": 90,
   "metadata": {},
   "outputs": [],
   "source": [
    "#Get cluster x class matrix\n",
    "cluster_age = cluster.T @ rings\n",
    "# normalize so probabilities sum up to 1\n",
    "cluster_age = cluster_age / cluster_age.sum(1)[:,None]\n",
    "#cluster_age"
   ]
  },
  {
   "cell_type": "code",
   "execution_count": 91,
   "metadata": {},
   "outputs": [],
   "source": [
    "#Get samples(without rings) x class matrix\n",
    "predicted_classes= gmm1.predict_proba(X_df) @ cluster_age\n",
    "#predicted_classes[:3]"
   ]
  },
  {
   "cell_type": "code",
   "execution_count": 92,
   "metadata": {},
   "outputs": [],
   "source": [
    "#Predict rings by multiplying 'Rings' values of classes with class probabilities\n",
    "\n",
    "predicted_age= predicted_classes @ ring_values"
   ]
  },
  {
   "cell_type": "code",
   "execution_count": 93,
   "metadata": {},
   "outputs": [
    {
     "data": {
      "text/plain": [
       "(4177,)"
      ]
     },
     "execution_count": 93,
     "metadata": {},
     "output_type": "execute_result"
    }
   ],
   "source": [
    "predicted_age.shape"
   ]
  },
  {
   "cell_type": "code",
   "execution_count": 94,
   "metadata": {},
   "outputs": [
    {
     "data": {
      "text/plain": [
       "array([10. ,  8. ,  8. , ...,  7.5,  8. ,  8. ])"
      ]
     },
     "execution_count": 94,
     "metadata": {},
     "output_type": "execute_result"
    }
   ],
   "source": [
    "predicted_age.round(3)"
   ]
  }
 ],
 "metadata": {
  "kernelspec": {
   "display_name": "Python 3",
   "language": "python",
   "name": "python3"
  },
  "language_info": {
   "codemirror_mode": {
    "name": "ipython",
    "version": 3
   },
   "file_extension": ".py",
   "mimetype": "text/x-python",
   "name": "python",
   "nbconvert_exporter": "python",
   "pygments_lexer": "ipython3",
   "version": "3.6.5"
  }
 },
 "nbformat": 4,
 "nbformat_minor": 2
}
