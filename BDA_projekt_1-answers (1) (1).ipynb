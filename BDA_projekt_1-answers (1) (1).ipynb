{
 "cells": [
  {
   "cell_type": "markdown",
   "metadata": {},
   "source": [
    "# Project 1"
   ]
  },
  {
   "cell_type": "markdown",
   "metadata": {},
   "source": [
    "- load the dataset https://data.melbourne.vic.gov.au/api/views/ez6b-syvw/rows.csv into a Python Pandas dataframe\n",
    "- calculate the median and\n",
    "- standard deviation for each place of measurement.\n",
    "- visualize each time series for respective places in the same figure.\n",
    "- The x-axis should have the correct time index indicated in the figure."
   ]
  },
  {
   "cell_type": "markdown",
   "metadata": {},
   "source": [
    "If Python is totaly new for you take a short quided tour to the language: https://www.w3schools.com/python/python_intro.asp or more comprehensive one: https://wiki.python.org/moin/BeginnersGuide\n",
    "\n",
    "Afterwords you will always need to consult the documentation: https://docs.python.org/3.6/\n",
    "\n",
    "You will also find relevant things at https://docs.python.org/3.6/faq/programming.html\n",
    "\n",
    "Before you strart this exersise, read http://pandas.pydata.org/pandas-docs/stable/dsintro.html\n"
   ]
  },
  {
   "cell_type": "code",
   "execution_count": 1,
   "metadata": {},
   "outputs": [],
   "source": [
    "# activate pandas package\n",
    "import pandas as pd"
   ]
  },
  {
   "cell_type": "markdown",
   "metadata": {},
   "source": [
    "Read in the dowloaded CVS file into pandas DataFrame object with `read_cvs()`\n",
    "\n",
    "If you get `FileNotFoundError: File b'Sensor_readings.csv' does not exist` check that your file is in the same directory as the active `.ipynb file` or provide full file path."
   ]
  },
  {
   "cell_type": "code",
   "execution_count": 2,
   "metadata": {},
   "outputs": [],
   "source": [
    "data = pd.read_csv(\"Sensor_readings__with_temperature__light__humidity_every_5_minutes_at_8_locations__trial__2014_to_2015_.csv\")"
   ]
  },
  {
   "cell_type": "markdown",
   "metadata": {},
   "source": [
    "`data` is now an instance of [class DataFrame](https://pandas.pydata.org/pandas-docs/stable/generated/pandas.DataFrame.html)\n",
    "\n",
    "`head()` is a method defined in the class"
   ]
  },
  {
   "cell_type": "code",
   "execution_count": 3,
   "metadata": {},
   "outputs": [
    {
     "data": {
      "text/html": [
       "<div>\n",
       "<style scoped>\n",
       "    .dataframe tbody tr th:only-of-type {\n",
       "        vertical-align: middle;\n",
       "    }\n",
       "\n",
       "    .dataframe tbody tr th {\n",
       "        vertical-align: top;\n",
       "    }\n",
       "\n",
       "    .dataframe thead th {\n",
       "        text-align: right;\n",
       "    }\n",
       "</style>\n",
       "<table border=\"1\" class=\"dataframe\">\n",
       "  <thead>\n",
       "    <tr style=\"text-align: right;\">\n",
       "      <th></th>\n",
       "      <th>timestamp</th>\n",
       "      <th>mac</th>\n",
       "      <th>boardtype</th>\n",
       "      <th>boardid</th>\n",
       "      <th>temp_max</th>\n",
       "      <th>temp_min</th>\n",
       "      <th>temp_avg</th>\n",
       "      <th>light_max</th>\n",
       "      <th>light_min</th>\n",
       "      <th>light_avg</th>\n",
       "      <th>humidity_min</th>\n",
       "      <th>humidity_max</th>\n",
       "      <th>humidity_avg</th>\n",
       "      <th>model</th>\n",
       "      <th>latitude</th>\n",
       "      <th>longitude</th>\n",
       "      <th>elevation</th>\n",
       "      <th>location</th>\n",
       "      <th>rowid</th>\n",
       "      <th>Position</th>\n",
       "    </tr>\n",
       "  </thead>\n",
       "  <tbody>\n",
       "    <tr>\n",
       "      <th>0</th>\n",
       "      <td>12/15/2014 01:40:00 AM</td>\n",
       "      <td>0013a20040b4b755</td>\n",
       "      <td>1</td>\n",
       "      <td>508</td>\n",
       "      <td>21.6</td>\n",
       "      <td>21.6</td>\n",
       "      <td>21.6</td>\n",
       "      <td>96.4</td>\n",
       "      <td>96.4</td>\n",
       "      <td>96.4</td>\n",
       "      <td>41.2</td>\n",
       "      <td>41.2</td>\n",
       "      <td>41.2</td>\n",
       "      <td>ENV</td>\n",
       "      <td>-37.813408</td>\n",
       "      <td>144.979492</td>\n",
       "      <td>30.10</td>\n",
       "      <td>Fitzroy Gardens</td>\n",
       "      <td>508-20141215014000</td>\n",
       "      <td>NaN</td>\n",
       "    </tr>\n",
       "    <tr>\n",
       "      <th>1</th>\n",
       "      <td>12/15/2014 01:40:00 AM</td>\n",
       "      <td>0013a20040b516ed</td>\n",
       "      <td>1</td>\n",
       "      <td>505</td>\n",
       "      <td>23.2</td>\n",
       "      <td>23.2</td>\n",
       "      <td>23.2</td>\n",
       "      <td>93.5</td>\n",
       "      <td>93.5</td>\n",
       "      <td>93.5</td>\n",
       "      <td>48.3</td>\n",
       "      <td>48.3</td>\n",
       "      <td>48.3</td>\n",
       "      <td>ENV</td>\n",
       "      <td>-37.813073</td>\n",
       "      <td>144.980406</td>\n",
       "      <td>29.91</td>\n",
       "      <td>Fitzroy Gardens</td>\n",
       "      <td>505-20141215014000</td>\n",
       "      <td>NaN</td>\n",
       "    </tr>\n",
       "    <tr>\n",
       "      <th>2</th>\n",
       "      <td>12/15/2014 01:45:00 AM</td>\n",
       "      <td>0013a20040b516f6</td>\n",
       "      <td>1</td>\n",
       "      <td>507</td>\n",
       "      <td>21.6</td>\n",
       "      <td>21.6</td>\n",
       "      <td>21.6</td>\n",
       "      <td>97.2</td>\n",
       "      <td>97.2</td>\n",
       "      <td>97.2</td>\n",
       "      <td>44.8</td>\n",
       "      <td>44.8</td>\n",
       "      <td>44.8</td>\n",
       "      <td>ENV</td>\n",
       "      <td>-37.814922</td>\n",
       "      <td>144.982258</td>\n",
       "      <td>38.79</td>\n",
       "      <td>Fitzroy Gardens</td>\n",
       "      <td>507-20141215014500</td>\n",
       "      <td>NaN</td>\n",
       "    </tr>\n",
       "    <tr>\n",
       "      <th>3</th>\n",
       "      <td>12/15/2014 01:45:00 AM</td>\n",
       "      <td>0013a20040b5b318</td>\n",
       "      <td>1</td>\n",
       "      <td>502</td>\n",
       "      <td>21.3</td>\n",
       "      <td>21.3</td>\n",
       "      <td>21.3</td>\n",
       "      <td>97.4</td>\n",
       "      <td>97.4</td>\n",
       "      <td>97.4</td>\n",
       "      <td>45.3</td>\n",
       "      <td>45.3</td>\n",
       "      <td>45.3</td>\n",
       "      <td>ENV</td>\n",
       "      <td>-37.814610</td>\n",
       "      <td>144.979018</td>\n",
       "      <td>22.57</td>\n",
       "      <td>Fitzroy Gardens</td>\n",
       "      <td>502-20141215014500</td>\n",
       "      <td>NaN</td>\n",
       "    </tr>\n",
       "    <tr>\n",
       "      <th>4</th>\n",
       "      <td>12/15/2014 01:45:00 AM</td>\n",
       "      <td>0013a20040b315ec</td>\n",
       "      <td>1</td>\n",
       "      <td>501</td>\n",
       "      <td>22.9</td>\n",
       "      <td>22.9</td>\n",
       "      <td>22.9</td>\n",
       "      <td>97.4</td>\n",
       "      <td>97.4</td>\n",
       "      <td>97.4</td>\n",
       "      <td>43.1</td>\n",
       "      <td>43.1</td>\n",
       "      <td>43.1</td>\n",
       "      <td>ENV</td>\n",
       "      <td>-37.814808</td>\n",
       "      <td>144.980999</td>\n",
       "      <td>29.96</td>\n",
       "      <td>Fitzroy Gardens</td>\n",
       "      <td>501-20141215014500</td>\n",
       "      <td>NaN</td>\n",
       "    </tr>\n",
       "  </tbody>\n",
       "</table>\n",
       "</div>"
      ],
      "text/plain": [
       "                timestamp               mac  boardtype  boardid  temp_max  \\\n",
       "0  12/15/2014 01:40:00 AM  0013a20040b4b755          1      508      21.6   \n",
       "1  12/15/2014 01:40:00 AM  0013a20040b516ed          1      505      23.2   \n",
       "2  12/15/2014 01:45:00 AM  0013a20040b516f6          1      507      21.6   \n",
       "3  12/15/2014 01:45:00 AM  0013a20040b5b318          1      502      21.3   \n",
       "4  12/15/2014 01:45:00 AM  0013a20040b315ec          1      501      22.9   \n",
       "\n",
       "   temp_min  temp_avg  light_max  light_min  light_avg  humidity_min  \\\n",
       "0      21.6      21.6       96.4       96.4       96.4          41.2   \n",
       "1      23.2      23.2       93.5       93.5       93.5          48.3   \n",
       "2      21.6      21.6       97.2       97.2       97.2          44.8   \n",
       "3      21.3      21.3       97.4       97.4       97.4          45.3   \n",
       "4      22.9      22.9       97.4       97.4       97.4          43.1   \n",
       "\n",
       "   humidity_max  humidity_avg model   latitude   longitude  elevation  \\\n",
       "0          41.2          41.2   ENV -37.813408  144.979492      30.10   \n",
       "1          48.3          48.3   ENV -37.813073  144.980406      29.91   \n",
       "2          44.8          44.8   ENV -37.814922  144.982258      38.79   \n",
       "3          45.3          45.3   ENV -37.814610  144.979018      22.57   \n",
       "4          43.1          43.1   ENV -37.814808  144.980999      29.96   \n",
       "\n",
       "          location               rowid  Position  \n",
       "0  Fitzroy Gardens  508-20141215014000       NaN  \n",
       "1  Fitzroy Gardens  505-20141215014000       NaN  \n",
       "2  Fitzroy Gardens  507-20141215014500       NaN  \n",
       "3  Fitzroy Gardens  502-20141215014500       NaN  \n",
       "4  Fitzroy Gardens  501-20141215014500       NaN  "
      ]
     },
     "execution_count": 3,
     "metadata": {},
     "output_type": "execute_result"
    }
   ],
   "source": [
    "data.head()"
   ]
  },
  {
   "cell_type": "markdown",
   "metadata": {},
   "source": [
    "`shape` is an attribute of class DataFrame, note absence of `()`"
   ]
  },
  {
   "cell_type": "code",
   "execution_count": 4,
   "metadata": {},
   "outputs": [
    {
     "data": {
      "text/plain": [
       "(56570, 20)"
      ]
     },
     "execution_count": 4,
     "metadata": {},
     "output_type": "execute_result"
    }
   ],
   "source": [
    "data.shape"
   ]
  },
  {
   "cell_type": "code",
   "execution_count": 5,
   "metadata": {},
   "outputs": [
    {
     "name": "stdout",
     "output_type": "stream",
     "text": [
      "<class 'pandas.core.frame.DataFrame'>\n",
      "RangeIndex: 56570 entries, 0 to 56569\n",
      "Data columns (total 20 columns):\n",
      "timestamp       56570 non-null object\n",
      "mac             56570 non-null object\n",
      "boardtype       56570 non-null int64\n",
      "boardid         56570 non-null int64\n",
      "temp_max        56570 non-null float64\n",
      "temp_min        56570 non-null float64\n",
      "temp_avg        56570 non-null float64\n",
      "light_max       56570 non-null float64\n",
      "light_min       56570 non-null float64\n",
      "light_avg       56570 non-null float64\n",
      "humidity_min    56570 non-null float64\n",
      "humidity_max    56570 non-null float64\n",
      "humidity_avg    56570 non-null float64\n",
      "model           56570 non-null object\n",
      "latitude        56570 non-null float64\n",
      "longitude       56570 non-null float64\n",
      "elevation       34975 non-null float64\n",
      "location        56570 non-null object\n",
      "rowid           56570 non-null object\n",
      "Position        0 non-null float64\n",
      "dtypes: float64(13), int64(2), object(5)\n",
      "memory usage: 25.9 MB\n"
     ]
    }
   ],
   "source": [
    "data.info(verbose=True, memory_usage='deep')"
   ]
  },
  {
   "cell_type": "code",
   "execution_count": 6,
   "metadata": {},
   "outputs": [
    {
     "data": {
      "text/html": [
       "<div>\n",
       "<style scoped>\n",
       "    .dataframe tbody tr th:only-of-type {\n",
       "        vertical-align: middle;\n",
       "    }\n",
       "\n",
       "    .dataframe tbody tr th {\n",
       "        vertical-align: top;\n",
       "    }\n",
       "\n",
       "    .dataframe thead th {\n",
       "        text-align: right;\n",
       "    }\n",
       "</style>\n",
       "<table border=\"1\" class=\"dataframe\">\n",
       "  <thead>\n",
       "    <tr style=\"text-align: right;\">\n",
       "      <th></th>\n",
       "      <th>timestamp</th>\n",
       "      <th>boardid</th>\n",
       "      <th>temp_max</th>\n",
       "      <th>temp_min</th>\n",
       "      <th>temp_avg</th>\n",
       "      <th>light_max</th>\n",
       "      <th>light_min</th>\n",
       "      <th>light_avg</th>\n",
       "      <th>humidity_min</th>\n",
       "      <th>humidity_max</th>\n",
       "      <th>humidity_avg</th>\n",
       "      <th>latitude</th>\n",
       "      <th>longitude</th>\n",
       "      <th>elevation</th>\n",
       "      <th>location</th>\n",
       "    </tr>\n",
       "  </thead>\n",
       "  <tbody>\n",
       "    <tr>\n",
       "      <th>0</th>\n",
       "      <td>12/15/2014 01:40:00 AM</td>\n",
       "      <td>508</td>\n",
       "      <td>21.6</td>\n",
       "      <td>21.6</td>\n",
       "      <td>21.6</td>\n",
       "      <td>96.4</td>\n",
       "      <td>96.4</td>\n",
       "      <td>96.4</td>\n",
       "      <td>41.2</td>\n",
       "      <td>41.2</td>\n",
       "      <td>41.2</td>\n",
       "      <td>-37.813408</td>\n",
       "      <td>144.979492</td>\n",
       "      <td>30.10</td>\n",
       "      <td>Fitzroy Gardens</td>\n",
       "    </tr>\n",
       "    <tr>\n",
       "      <th>1</th>\n",
       "      <td>12/15/2014 01:40:00 AM</td>\n",
       "      <td>505</td>\n",
       "      <td>23.2</td>\n",
       "      <td>23.2</td>\n",
       "      <td>23.2</td>\n",
       "      <td>93.5</td>\n",
       "      <td>93.5</td>\n",
       "      <td>93.5</td>\n",
       "      <td>48.3</td>\n",
       "      <td>48.3</td>\n",
       "      <td>48.3</td>\n",
       "      <td>-37.813073</td>\n",
       "      <td>144.980406</td>\n",
       "      <td>29.91</td>\n",
       "      <td>Fitzroy Gardens</td>\n",
       "    </tr>\n",
       "    <tr>\n",
       "      <th>2</th>\n",
       "      <td>12/15/2014 01:45:00 AM</td>\n",
       "      <td>507</td>\n",
       "      <td>21.6</td>\n",
       "      <td>21.6</td>\n",
       "      <td>21.6</td>\n",
       "      <td>97.2</td>\n",
       "      <td>97.2</td>\n",
       "      <td>97.2</td>\n",
       "      <td>44.8</td>\n",
       "      <td>44.8</td>\n",
       "      <td>44.8</td>\n",
       "      <td>-37.814922</td>\n",
       "      <td>144.982258</td>\n",
       "      <td>38.79</td>\n",
       "      <td>Fitzroy Gardens</td>\n",
       "    </tr>\n",
       "    <tr>\n",
       "      <th>3</th>\n",
       "      <td>12/15/2014 01:45:00 AM</td>\n",
       "      <td>502</td>\n",
       "      <td>21.3</td>\n",
       "      <td>21.3</td>\n",
       "      <td>21.3</td>\n",
       "      <td>97.4</td>\n",
       "      <td>97.4</td>\n",
       "      <td>97.4</td>\n",
       "      <td>45.3</td>\n",
       "      <td>45.3</td>\n",
       "      <td>45.3</td>\n",
       "      <td>-37.814610</td>\n",
       "      <td>144.979018</td>\n",
       "      <td>22.57</td>\n",
       "      <td>Fitzroy Gardens</td>\n",
       "    </tr>\n",
       "    <tr>\n",
       "      <th>4</th>\n",
       "      <td>12/15/2014 01:45:00 AM</td>\n",
       "      <td>501</td>\n",
       "      <td>22.9</td>\n",
       "      <td>22.9</td>\n",
       "      <td>22.9</td>\n",
       "      <td>97.4</td>\n",
       "      <td>97.4</td>\n",
       "      <td>97.4</td>\n",
       "      <td>43.1</td>\n",
       "      <td>43.1</td>\n",
       "      <td>43.1</td>\n",
       "      <td>-37.814808</td>\n",
       "      <td>144.980999</td>\n",
       "      <td>29.96</td>\n",
       "      <td>Fitzroy Gardens</td>\n",
       "    </tr>\n",
       "  </tbody>\n",
       "</table>\n",
       "</div>"
      ],
      "text/plain": [
       "                timestamp  boardid  temp_max  temp_min  temp_avg  light_max  \\\n",
       "0  12/15/2014 01:40:00 AM      508      21.6      21.6      21.6       96.4   \n",
       "1  12/15/2014 01:40:00 AM      505      23.2      23.2      23.2       93.5   \n",
       "2  12/15/2014 01:45:00 AM      507      21.6      21.6      21.6       97.2   \n",
       "3  12/15/2014 01:45:00 AM      502      21.3      21.3      21.3       97.4   \n",
       "4  12/15/2014 01:45:00 AM      501      22.9      22.9      22.9       97.4   \n",
       "\n",
       "   light_min  light_avg  humidity_min  humidity_max  humidity_avg   latitude  \\\n",
       "0       96.4       96.4          41.2          41.2          41.2 -37.813408   \n",
       "1       93.5       93.5          48.3          48.3          48.3 -37.813073   \n",
       "2       97.2       97.2          44.8          44.8          44.8 -37.814922   \n",
       "3       97.4       97.4          45.3          45.3          45.3 -37.814610   \n",
       "4       97.4       97.4          43.1          43.1          43.1 -37.814808   \n",
       "\n",
       "    longitude  elevation         location  \n",
       "0  144.979492      30.10  Fitzroy Gardens  \n",
       "1  144.980406      29.91  Fitzroy Gardens  \n",
       "2  144.982258      38.79  Fitzroy Gardens  \n",
       "3  144.979018      22.57  Fitzroy Gardens  \n",
       "4  144.980999      29.96  Fitzroy Gardens  "
      ]
     },
     "execution_count": 6,
     "metadata": {},
     "output_type": "execute_result"
    }
   ],
   "source": [
    "# some columns are totaly useless, you may whant to drop them.\n",
    "data.drop(columns=['mac', 'boardtype', 'Position', 'model', 'rowid'],inplace=True)\n",
    "data.drop(columns=['temp_max','temp_min'])               #by default inplace is false. Hence the underlying data will not change\n",
    "data.head()"
   ]
  },
  {
   "cell_type": "markdown",
   "metadata": {},
   "source": [
    "Hmm, looks like some columns hold same values. Check if there are any rows where `temp_max`, `temp_min` and `temp_avg` are different. If there are none - drop `temp_max` and `temp_min`."
   ]
  },
  {
   "cell_type": "markdown",
   "metadata": {},
   "source": [
    "Check the amount of rows in the dataframe"
   ]
  },
  {
   "cell_type": "code",
   "execution_count": 7,
   "metadata": {},
   "outputs": [
    {
     "data": {
      "text/plain": [
       "56570"
      ]
     },
     "execution_count": 7,
     "metadata": {},
     "output_type": "execute_result"
    }
   ],
   "source": [
    "len(data)"
   ]
  },
  {
   "cell_type": "markdown",
   "metadata": {},
   "source": [
    "Compare the number to the amount of rows `len(data)` in the filtered dataframe, \n",
    "where values of `temp_min` and `temp_max` are the same in the same row. \n",
    "Note: you may sometimes use different syntax for column selection in pandas.\n",
    "\n",
    "https://pandas.pydata.org/pandas-docs/stable/indexing.html#attribute-access\n",
    "\n",
    "Attribute-access is nice, because it allows tab-completion \n",
    "\n",
    "https://ipython.readthedocs.io/en/stable/interactive/reference.html?highlight=completion#command-line-completion"
   ]
  },
  {
   "cell_type": "code",
   "execution_count": 8,
   "metadata": {},
   "outputs": [
    {
     "data": {
      "text/plain": [
       "56570"
      ]
     },
     "execution_count": 8,
     "metadata": {},
     "output_type": "execute_result"
    }
   ],
   "source": [
    "len(data[data['temp_max'] == data.temp_min])"
   ]
  },
  {
   "cell_type": "code",
   "execution_count": 9,
   "metadata": {},
   "outputs": [
    {
     "data": {
      "text/plain": [
       "56570"
      ]
     },
     "execution_count": 9,
     "metadata": {},
     "output_type": "execute_result"
    }
   ],
   "source": [
    "len(data.query('temp_max == temp_avg'))"
   ]
  },
  {
   "cell_type": "markdown",
   "metadata": {},
   "source": [
    "Then you are interested in how many different locations the data holds. The [`unique()` method](https://pandas.pydata.org/pandas-docs/stable/generated/pandas.Series.unique.html) from `Series` class will be helpful."
   ]
  },
  {
   "cell_type": "code",
   "execution_count": 10,
   "metadata": {},
   "outputs": [
    {
     "data": {
      "text/plain": [
       "array(['Fitzroy Gardens', 'Docklands Library'], dtype=object)"
      ]
     },
     "execution_count": 10,
     "metadata": {},
     "output_type": "execute_result"
    }
   ],
   "source": [
    "data.location.unique()"
   ]
  },
  {
   "cell_type": "markdown",
   "metadata": {},
   "source": [
    "Can you see how many rows are from Fitzroy Gardens?"
   ]
  },
  {
   "cell_type": "code",
   "execution_count": 11,
   "metadata": {},
   "outputs": [
    {
     "data": {
      "text/plain": [
       "array([508, 505, 507, 502, 501], dtype=int64)"
      ]
     },
     "execution_count": 11,
     "metadata": {},
     "output_type": "execute_result"
    }
   ],
   "source": [
    "(data[data.location == 'Fitzroy Gardens']).boardid.unique()\n"
   ]
  },
  {
   "cell_type": "code",
   "execution_count": 12,
   "metadata": {},
   "outputs": [
    {
     "data": {
      "text/plain": [
       "array([506, 511, 510, 509], dtype=int64)"
      ]
     },
     "execution_count": 12,
     "metadata": {},
     "output_type": "execute_result"
    }
   ],
   "source": [
    "(data[data.location =='Docklands Library']).boardid.unique()"
   ]
  },
  {
   "cell_type": "markdown",
   "metadata": {},
   "source": [
    "Try to print out the folowing information automaticaly with 5-6 lines of code ([for-loop](https://www.w3schools.com/python/python_for_loops.asp)):"
   ]
  },
  {
   "cell_type": "code",
   "execution_count": 13,
   "metadata": {},
   "outputs": [
    {
     "name": "stdout",
     "output_type": "stream",
     "text": [
      "Fitzroy Gardens\n",
      "\tboard  501 - rows  2903\n",
      "\tboard  502 - rows  2725\n",
      "\tboard  505 - rows  2915\n",
      "\tboard  507 - rows  2918\n",
      "\tboard  508 - rows  2728\n",
      "Docklands Library\n",
      "\tboard  506 - rows  6626\n",
      "\tboard  509 - rows  19119\n",
      "\tboard  510 - rows  12038\n",
      "\tboard  511 - rows  4598\n"
     ]
    }
   ],
   "source": [
    "for location in data.location.unique():\n",
    "    print(location)\n",
    "    # your code here\n",
    "    board = (data[data['location'] == location]).boardid.unique() #getting unique boardid\n",
    "    board1 = sorted(board)                                      #sorting in ascending order\n",
    "    for boardid in board1:\n",
    "        rowid = data.loc[data['boardid'] ==  boardid].index.values.shape[0]   # returns the number of rows having the \n",
    "        print('\\tboard ',boardid, '-' , 'rows ', rowid)                        #same boardid\n",
    "    "
   ]
  },
  {
   "cell_type": "markdown",
   "metadata": {},
   "source": [
    "`Fitzroy Gardens\n",
    "\tboard 501 - rows 2903\n",
    "\tboard 502 - rows 2725\n",
    "\tboard 505 - rows 2915\n",
    "\tboard 507 - rows 2918\n",
    "\tboard 508 - rows 2728\n",
    "Docklands Library\n",
    "\tboard 506 - rows 6626\n",
    "\tboard 509 - rows 19119\n",
    "\tboard 510 - rows 12038\n",
    "\tboard 511 - rows 4598`"
   ]
  },
  {
   "cell_type": "markdown",
   "metadata": {},
   "source": [
    "## Median (aka expected value)"
   ]
  },
  {
   "cell_type": "markdown",
   "metadata": {},
   "source": [
    "You'd like to have a function that takes an unsorted pandas.Series object (or a list) and returns a median for it.\n",
    "\n",
    "Sort the serie: https://pandas.pydata.org/pandas-docs/stable/generated/pandas.Series.sort_values.html (or your list).\n",
    "\n",
    "There are two opotions: odd and even number of elements.\n",
    "\n",
    "If the number is odd, return an element with the index 'length of serie floor divided by 2'\n",
    "\n",
    "If the number is even, return a half sum of two middle elements.\n",
    "\n",
    "You can use `.iloc[]` to access the position of a row if pandas.Series object. Remember that the position is zero-based. https://stackoverflow.com/a/31593712"
   ]
  },
  {
   "cell_type": "code",
   "execution_count": 14,
   "metadata": {},
   "outputs": [
    {
     "name": "stdout",
     "output_type": "stream",
     "text": [
      "Medians for locations\n",
      "\n",
      " Fitzroy Gardens temp  19.0 light  83.9 humidity  47.7\n",
      "\n",
      "board - 501 \n",
      "\ttemp-  19.0 \n",
      "\tlight-  88.2 \n",
      "\thumidity-  47.3\n",
      "\n",
      "board - 502 \n",
      "\ttemp-  18.1 \n",
      "\tlight-  84.6 \n",
      "\thumidity-  49.9\n",
      "\n",
      "board - 505 \n",
      "\ttemp-  20.0 \n",
      "\tlight-  78.3 \n",
      "\thumidity-  51.0\n",
      "\n",
      "board - 507 \n",
      "\ttemp-  19.0 \n",
      "\tlight-  86.8 \n",
      "\thumidity-  48.3\n",
      "\n",
      "board - 508 \n",
      "\ttemp-  19.0 \n",
      "\tlight-  83.25 \n",
      "\thumidity-  43.3\n",
      "\n",
      " Docklands Library temp  17.4 light  13.1 humidity  51.9\n",
      "\n",
      "board - 506 \n",
      "\ttemp-  16.5 \n",
      "\tlight-  8.5 \n",
      "\thumidity-  48.6\n",
      "\n",
      "board - 509 \n",
      "\ttemp-  17.4 \n",
      "\tlight-  29.1 \n",
      "\thumidity-  56.2\n",
      "\n",
      "board - 510 \n",
      "\ttemp-  17.1 \n",
      "\tlight-  73.75 \n",
      "\thumidity-  49.2\n",
      "\n",
      "board - 511 \n",
      "\ttemp-  18.7 \n",
      "\tlight-  13.55 \n",
      "\thumidity-  50.2\n"
     ]
    }
   ],
   "source": [
    "#program to calculate the median of average of temp, light and humidity for individual boardids of each location and printout\n",
    "#defining median function\n",
    "\n",
    "import numpy as np\n",
    "\n",
    "def median (serie):\n",
    "    # your code here\n",
    "    n = len(serie)\n",
    "    if n < 1:\n",
    "            return None\n",
    "    if n % 2 == 1:  #if the list is odd\n",
    "            return sorted(serie)[n//2]\n",
    "    else:           #if the list is even\n",
    "            return sum(sorted(serie)[n//2-1:n//2+1])/2.0                         #integer division\n",
    "\n",
    "\n",
    "print(\"Medians for locations\")\n",
    "for location in data.location.unique():                                          #using data filters for the locations \n",
    "    location_filter = data.location == location\n",
    "    data_filtered = data[location_filter]\n",
    "    temp_median = median(data_filtered.loc[:,\"temp_avg\"].values)\n",
    "    light_median = median(data_filtered.loc[:,\"light_avg\"].values)\n",
    "    humidity_median = median(data_filtered.loc[:,\"humidity_avg\"].values)\n",
    "    print(\"\\n\",location , \"temp \" , temp_median , \"light \" , light_median , \"humidity \", humidity_median)\n",
    "    board = (data_filtered[data_filtered['location'] == location]).boardid.unique()           #getting unique boardid\n",
    "    board1 = sorted(board)                                                                    #sorting in ascending order\n",
    "    for boardid in board1:\n",
    "        board_filter = data_filtered.boardid == boardid                                       #using data filters for boardid\n",
    "        data_filtered2 = data_filtered[board_filter]\n",
    "        temp_median = median(data_filtered2.loc[:,\"temp_avg\"].values)                          #using the user defined median()    \n",
    "        light_median = median(data_filtered2.loc[:,\"light_avg\"].values)\n",
    "        humidity_median = median(data_filtered2.loc[:,\"humidity_avg\"].values)\n",
    "        print(\"\\nboard -\" ,boardid, \"\\n\\ttemp- \" , temp_median , \"\\n\\tlight- \" , light_median ,\"\\n\\thumidity- \", humidity_median)\n",
    "        \n"
   ]
  },
  {
   "cell_type": "code",
   "execution_count": 15,
   "metadata": {},
   "outputs": [
    {
     "name": "stdout",
     "output_type": "stream",
     "text": [
      "Medians for locations\n",
      "\n",
      " Fitzroy Gardens temp  19.0 light  83.9 humidity  47.7\n",
      "\n",
      "board - 501 \n",
      "\ttemp-  19.0 \n",
      "\tlight-  88.2 \n",
      "\thumidity-  47.3\n",
      "\n",
      "board - 502 \n",
      "\ttemp-  18.1 \n",
      "\tlight-  84.6 \n",
      "\thumidity-  49.9\n",
      "\n",
      "board - 505 \n",
      "\ttemp-  20.0 \n",
      "\tlight-  78.3 \n",
      "\thumidity-  51.0\n",
      "\n",
      "board - 507 \n",
      "\ttemp-  19.0 \n",
      "\tlight-  86.8 \n",
      "\thumidity-  48.3\n",
      "\n",
      "board - 508 \n",
      "\ttemp-  19.0 \n",
      "\tlight-  83.25 \n",
      "\thumidity-  43.3\n",
      "\n",
      " Docklands Library temp  17.4 light  13.1 humidity  51.9\n",
      "\n",
      "board - 506 \n",
      "\ttemp-  16.5 \n",
      "\tlight-  8.5 \n",
      "\thumidity-  48.6\n",
      "\n",
      "board - 509 \n",
      "\ttemp-  17.4 \n",
      "\tlight-  29.1 \n",
      "\thumidity-  56.2\n",
      "\n",
      "board - 510 \n",
      "\ttemp-  17.1 \n",
      "\tlight-  73.75 \n",
      "\thumidity-  49.2\n",
      "\n",
      "board - 511 \n",
      "\ttemp-  18.7 \n",
      "\tlight-  13.55 \n",
      "\thumidity-  50.2\n"
     ]
    }
   ],
   "source": [
    "#program to calculate the median of average of temp, light and humidity for individual boardids of each location and printout\n",
    "#using pandas median()\n",
    "\n",
    "print(\"Medians for locations\")\n",
    "for location in data.location.unique():                                                  #using data filters for the locations \n",
    "    location_filter = data.location == location\n",
    "    data_filtered = data[location_filter]\n",
    "    temp_median = data_filtered.loc[:,\"temp_avg\"].median()\n",
    "    light_median = data_filtered.loc[:,\"light_avg\"].median()\n",
    "    humidity_median = data_filtered.loc[:,\"humidity_avg\"].median()\n",
    "    print(\"\\n\",location , \"temp \" , temp_median , \"light \" , light_median , \"humidity \", humidity_median)\n",
    "    board = (data_filtered[data_filtered['location'] == location]).boardid.unique()           #getting unique boardid\n",
    "    board1 = sorted(board)                                                                    #sorting in ascending order\n",
    "    for boardid in board1:\n",
    "        board_filter = data_filtered.boardid == boardid                                       #using data filters for boardid\n",
    "        data_filtered2 = data_filtered[board_filter]\n",
    "        temp_median = data_filtered2.loc[:,\"temp_avg\"].median()                               #using the median()    \n",
    "        light_median = data_filtered2.loc[:,\"light_avg\"].median()\n",
    "        humidity_median = data_filtered2.loc[:,\"humidity_avg\"].median()\n",
    "        print(\"\\nboard -\" ,boardid, \"\\n\\ttemp- \" , temp_median , \"\\n\\tlight- \" , light_median ,\"\\n\\thumidity- \", humidity_median)\n",
    "        \n",
    "       \n",
    "    \n",
    "   \n"
   ]
  },
  {
   "cell_type": "markdown",
   "metadata": {},
   "source": [
    "You can use this `median` function to produce the median-answer.\n",
    "\n",
    "Make use of https://www.w3schools.com/python/ref_string_replace.asp"
   ]
  },
  {
   "cell_type": "markdown",
   "metadata": {},
   "source": [
    "`Medians for locations:\n",
    "\n",
    " Fitzroy Gardens\n",
    "\t temp     \t 19.0\n",
    "\t light    \t 83.9\n",
    "\t humidity \t 47.7\n",
    "\n",
    "\tboard 501 - elevation 29.96\n",
    "\t\t temp     \t 19.0\n",
    "\t\t light    \t 88.2\n",
    "\t\t humidity \t 47.3\n",
    "\n",
    "\tboard 502 - elevation 22.57\n",
    "\t\t temp     \t 18.1\n",
    "\t\t light    \t 84.6\n",
    "\t\t humidity \t 49.9\n",
    "\n",
    "\tboard 505 - elevation 29.91\n",
    "\t\t temp     \t 20.0\n",
    "\t\t light    \t 78.3\n",
    "\t\t humidity \t 51.0\n",
    "\n",
    "\tboard 507 - elevation 38.79\n",
    "\t\t temp     \t 19.0\n",
    "\t\t light    \t 86.8\n",
    "\t\t humidity \t 48.3\n",
    "\n",
    "\tboard 508 - elevation 30.1\n",
    "\t\t temp     \t 19.0\n",
    "\t\t light    \t 83.25\n",
    "\t\t humidity \t 43.3\n",
    "\n",
    " Docklands Library\n",
    "\t temp     \t 17.4\n",
    "\t light    \t 13.1\n",
    "\t humidity \t 51.9\n",
    "\n",
    "\tboard 506 - elevation 0.71\n",
    "\t\t temp     \t 16.5\n",
    "\t\t light    \t 8.5\n",
    "\t\t humidity \t 48.6\n",
    "\n",
    "\tboard 509 - elevation 0.03\n",
    "\t\t temp     \t 17.4\n",
    "\t\t light    \t 29.1\n",
    "\t\t humidity \t 56.2\n",
    "\n",
    "\tboard 510 - elevation 2.74\n",
    "\t\t temp     \t 17.1\n",
    "\t\t light    \t 73.75\n",
    "\t\t humidity \t 49.2\n",
    "\n",
    "\tboard 511 - elevation 3.75\n",
    "\t\t temp     \t 18.7\n",
    "\t\t light    \t 13.55\n",
    "\t\t humidity \t 50.2`"
   ]
  },
  {
   "cell_type": "markdown",
   "metadata": {},
   "source": [
    "## Standard deviation"
   ]
  },
  {
   "cell_type": "markdown",
   "metadata": {},
   "source": [
    "Write a function that takes pandas.Series object and returns standard deviation.\n",
    "\n",
    "First calculate `mean = serie.sum() / serie.count()`\n",
    "\n",
    "Then make a Series object which contains `squares_off_difference` between every measured value and the `mean`.\n",
    "\n",
    "Then return sqrt of ratio of `squares_off_difference.sum()` to number of elements in `serie` minus 1."
   ]
  },
  {
   "cell_type": "code",
   "execution_count": 16,
   "metadata": {},
   "outputs": [
    {
     "name": "stdout",
     "output_type": "stream",
     "text": [
      "St. dev. for locations:\n",
      "\n",
      " Fitzroy Gardens temp  4.74 light  43.51 humidity  16.90\n",
      "\n",
      "board - 501 \n",
      "\ttemp-  5.26 \n",
      "\tlight-  44.83 \n",
      "\thumidity-  28.19\n",
      "\n",
      "board - 502 \n",
      "\ttemp-  4.58 \n",
      "\tlight-  43.37 \n",
      "\thumidity-  12.00\n",
      "\n",
      "board - 505 \n",
      "\ttemp-  4.37 \n",
      "\tlight-  41.70 \n",
      "\thumidity-  11.77\n",
      "\n",
      "board - 507 \n",
      "\ttemp-  4.84 \n",
      "\tlight-  44.48 \n",
      "\thumidity-  12.83\n",
      "\n",
      "board - 508 \n",
      "\ttemp-  4.43 \n",
      "\tlight-  42.98 \n",
      "\thumidity-  11.28\n",
      "\n",
      " Docklands Library temp  5.67 light  43.96 humidity  11.88\n",
      "\n",
      "board - 506 \n",
      "\ttemp-  5.38 \n",
      "\tlight-  39.27 \n",
      "\thumidity-  14.65\n",
      "\n",
      "board - 509 \n",
      "\ttemp-  5.52 \n",
      "\tlight-  44.77 \n",
      "\thumidity-  11.81\n",
      "\n",
      "board - 510 \n",
      "\ttemp-  6.06 \n",
      "\tlight-  45.24 \n",
      "\thumidity-  8.62\n",
      "\n",
      "board - 511 \n",
      "\ttemp-  5.22 \n",
      "\tlight-  41.32 \n",
      "\thumidity-  11.64\n"
     ]
    }
   ],
   "source": [
    "#program to print the standard deviation for individual boardids of each location\n",
    "#using user defined function\n",
    "import math                                                                      #need this to run sqrt function\n",
    "\n",
    "\n",
    "def mean(serie):\n",
    "    return sum(serie)/len(serie)\n",
    "\n",
    "def st_dev(serie):\n",
    "    length = len(serie)\n",
    "    m = mean(serie)\n",
    "    total_sum = 0\n",
    "    for i in range(length):\n",
    "        total_sum += (serie[i] - m)**2\n",
    "    var = total_sum/len(serie)    \n",
    "    return math.sqrt(var)\n",
    "\n",
    "\n",
    "print ('St. dev. for locations:')\n",
    "for location in data.location.unique():\n",
    "    # your code here\n",
    "    location_filter = data.location == location                                         #using data filters for the locations \n",
    "    data_filtered = data[location_filter]\n",
    "    temp_st = st_dev(data_filtered.loc[:,\"temp_avg\"].values)\n",
    "    light_st = st_dev(data_filtered.loc[:,\"light_avg\"].values)\n",
    "    humidity_st = st_dev(data_filtered.loc[:,\"humidity_avg\"].values)\n",
    "    temp_fmt = format(temp_st,\".2f\")                                                     #rounding off to 2 decimal places\n",
    "    light_fmt = format(light_st,\".2f\")\n",
    "    humidity_fmt =format(humidity_st,\".2f\")\n",
    "    print(\"\\n\",location , \"temp \" , temp_fmt , \"light \" , light_fmt , \"humidity \", humidity_fmt)\n",
    "    board = (data_filtered[data_filtered['location'] == location]).boardid.unique()           #getting unique boardid\n",
    "    board1 = sorted(board)                                                                    #sorting in ascending order\n",
    "    for boardid in board1:\n",
    "        board_filter = data_filtered.boardid == boardid                                       #using data filters for boardid\n",
    "        data_filtered2 = data_filtered[board_filter]\n",
    "        temp_st = st_dev(data_filtered2.loc[:,\"temp_avg\"].values)                             #using the user defined st_dev()   \n",
    "        light_st = st_dev(data_filtered2.loc[:,\"light_avg\"].values)\n",
    "        humidity_st = st_dev(data_filtered2.loc[:,\"humidity_avg\"].values)\n",
    "        temp_fmt = format(temp_st,\".2f\")                                                      #rounding off to 2 decimal places\n",
    "        light_fmt = format(light_st,\".2f\")\n",
    "        humidity_fmt =format(humidity_st,\".2f\")\n",
    "        print(\"\\nboard -\" ,boardid, \"\\n\\ttemp- \" , temp_fmt , \"\\n\\tlight- \" , light_fmt ,\"\\n\\thumidity- \", humidity_fmt)\n",
    "        \n"
   ]
  },
  {
   "cell_type": "markdown",
   "metadata": {},
   "source": [
    "You can reuse your solution for median printout, now with `st_dev` function"
   ]
  },
  {
   "cell_type": "code",
   "execution_count": 17,
   "metadata": {},
   "outputs": [
    {
     "name": "stdout",
     "output_type": "stream",
     "text": [
      "St. dev. for locations:\n",
      "\n",
      " Fitzroy Gardens temp  4.74 light  43.51 humidity  16.90\n",
      "\n",
      "board - 501 \n",
      "\ttemp-  5.26 \n",
      "\tlight-  44.84 \n",
      "\thumidity-  28.19\n",
      "\n",
      "board - 502 \n",
      "\ttemp-  4.58 \n",
      "\tlight-  43.38 \n",
      "\thumidity-  12.00\n",
      "\n",
      "board - 505 \n",
      "\ttemp-  4.37 \n",
      "\tlight-  41.71 \n",
      "\thumidity-  11.77\n",
      "\n",
      "board - 507 \n",
      "\ttemp-  4.84 \n",
      "\tlight-  44.49 \n",
      "\thumidity-  12.83\n",
      "\n",
      "board - 508 \n",
      "\ttemp-  4.43 \n",
      "\tlight-  42.99 \n",
      "\thumidity-  11.28\n",
      "\n",
      " Docklands Library temp  5.67 light  43.97 humidity  11.88\n",
      "\n",
      "board - 506 \n",
      "\ttemp-  5.38 \n",
      "\tlight-  39.27 \n",
      "\thumidity-  14.65\n",
      "\n",
      "board - 509 \n",
      "\ttemp-  5.52 \n",
      "\tlight-  44.77 \n",
      "\thumidity-  11.81\n",
      "\n",
      "board - 510 \n",
      "\ttemp-  6.06 \n",
      "\tlight-  45.24 \n",
      "\thumidity-  8.62\n",
      "\n",
      "board - 511 \n",
      "\ttemp-  5.22 \n",
      "\tlight-  41.32 \n",
      "\thumidity-  11.64\n"
     ]
    }
   ],
   "source": [
    "#program to calculate the standard deviation of the individual board ids of each location\n",
    "#using numpy std()\n",
    "columns = ['temp_avg', 'light_avg', 'humidity_avg']\n",
    "print ('St. dev. for locations:')\n",
    "for location in data.location.unique():\n",
    "    # your code here\n",
    "    location_filter = data.location == location                                         #using data filters for the locations \n",
    "    data_filtered = data[location_filter]\n",
    "    temp_st = data_filtered.loc[:,\"temp_avg\"].std()\n",
    "    light_st = data_filtered.loc[:,\"light_avg\"].std()\n",
    "    humidity_st = data_filtered.loc[:,\"humidity_avg\"].std()\n",
    "    temp_fmt = format(temp_st,\".2f\")                                                     #rounding off to 2 decimal places\n",
    "    light_fmt = format(light_st,\".2f\")\n",
    "    humidity_fmt =format(humidity_st,\".2f\")\n",
    "    print(\"\\n\" ,location , \"temp \" , temp_fmt , \"light \" , light_fmt , \"humidity \", humidity_fmt)\n",
    "    board = (data_filtered[data_filtered['location'] == location]).boardid.unique()           #getting unique boardid\n",
    "    board1 = sorted(board)                                                                    #sorting in ascending order\n",
    "    for boardid in board1:\n",
    "        board_filter = data_filtered.boardid == boardid                                       #using data filters for boardid\n",
    "        data_filtered2 = data_filtered[board_filter]\n",
    "        temp_st = data_filtered2.loc[:,\"temp_avg\"].std()                                      #using the std()    \n",
    "        light_st = data_filtered2.loc[:,\"light_avg\"].std()\n",
    "        humidity_st = data_filtered2.loc[:,\"humidity_avg\"].std()\n",
    "        temp_fmt = format(temp_st,\".2f\")                                                      #rounding off to 2 decimal places\n",
    "        light_fmt = format(light_st,\".2f\")\n",
    "        humidity_fmt =format(humidity_st,\".2f\")\n",
    "        print(\"\\nboard -\" ,boardid, \"\\n\\ttemp- \" , temp_fmt , \"\\n\\tlight- \" , light_fmt ,\"\\n\\thumidity- \", humidity_fmt)\n",
    "        \n"
   ]
  },
  {
   "cell_type": "markdown",
   "metadata": {},
   "source": [
    "## Visualisation"
   ]
  },
  {
   "cell_type": "code",
   "execution_count": 18,
   "metadata": {},
   "outputs": [],
   "source": [
    "import matplotlib.pyplot as plt"
   ]
  },
  {
   "cell_type": "markdown",
   "metadata": {},
   "source": [
    "Have a look at https://pandas.pydata.org/pandas-docs/stable/timeseries.html\n",
    "\n",
    "Have you noticed that column `timestamp` in our data is a string? We have to convert it to pandas.Timestamp to be able to plot measurements correctly.\n",
    "\n",
    "https://pandas.pydata.org/pandas-docs/stable/generated/pandas.to_datetime.html"
   ]
  },
  {
   "cell_type": "code",
   "execution_count": 19,
   "metadata": {},
   "outputs": [
    {
     "name": "stdout",
     "output_type": "stream",
     "text": [
      "Wall time: 484 ms\n"
     ]
    },
    {
     "data": {
      "text/plain": [
       "count                   56570\n",
       "unique                  19055\n",
       "top       2014-12-22 03:05:00\n",
       "freq                       14\n",
       "first     2014-12-15 01:00:00\n",
       "last      2015-06-05 12:50:00\n",
       "Name: ts, dtype: object"
      ]
     },
     "execution_count": 19,
     "metadata": {},
     "output_type": "execute_result"
    }
   ],
   "source": [
    "%time data['ts'] = pd.to_datetime(data.timestamp, format = '%m/%d/%Y %H:%M:%S %p')\n",
    "data.ts.describe()"
   ]
  },
  {
   "cell_type": "markdown",
   "metadata": {},
   "source": [
    "If it takes too long time to convert, try to help pandas and define time format you are reading:\n",
    "\n",
    "https://docs.python.org/3/library/datetime.html#strftime-and-strptime-behavior"
   ]
  },
  {
   "cell_type": "markdown",
   "metadata": {},
   "source": [
    "Be advised that you may want to `data.set_index('ts')` and use non unique index but there will be a performance penalty: https://stackoverflow.com/a/16629125"
   ]
  },
  {
   "cell_type": "markdown",
   "metadata": {},
   "source": [
    "Now you can easily plot all measurements from some location and from some period of time.\n",
    "\n",
    "For example: average temperature at *Fitzroy Gardens* only from 2014."
   ]
  },
  {
   "cell_type": "code",
   "execution_count": 20,
   "metadata": {
    "scrolled": true
   },
   "outputs": [
    {
     "data": {
      "image/png": "[encoded data removed]",
      "text/plain": [
       "<Figure size 1440x360 with 1 Axes>"
      ]
     },
     "metadata": {},
     "output_type": "display_data"
    }
   ],
   "source": [
    "# model\n",
    "plt.figure(figsize=(20,5))\n",
    "location_filter = data.location == 'Fitzroy Gardens'\n",
    "time_filter = data.ts < pd.Timestamp('2015-01-01')\n",
    "data_filtered = data[location_filter & time_filter]\n",
    "plt.plot(data_filtered.ts, data_filtered.temp_avg, 's', c='g', alpha=.5 , linewidth = .2)\n",
    "plt.xlabel(\"timestamp\")\n",
    "plt.ylabel(\"Average temperature\")\n",
    "location_filter1 = data.location == 'Docklands Library'\n",
    "time_filter1 = data.ts < pd.Timestamp('2015-01-01')\n",
    "data_filtered1 = data[location_filter1 & time_filter1]\n",
    "plt.plot(data_filtered1.ts, data_filtered1.temp_avg, 's', c='b', alpha=.5 , linewidth = .2)\n",
    "plt.legend([\"Fitzroy Gardens\",\"Docklands Library\"])\n",
    "plt.title(\"Average temperature of locations from period 2014\")\n",
    "plt.show()"
   ]
  },
  {
   "cell_type": "markdown",
   "metadata": {},
   "source": [
    "Can you color separate different boards?\n",
    "\n",
    "Can your plot the median?"
   ]
  },
  {
   "cell_type": "code",
   "execution_count": 21,
   "metadata": {},
   "outputs": [
    {
     "data": {
      "image/png": "[encoded data removed]",
      "text/plain": [
       "<Figure size 1296x1440 with 5 Axes>"
      ]
     },
     "metadata": {},
     "output_type": "display_data"
    }
   ],
   "source": [
    "plt.figure(figsize=(18,20))                                        #plots for separate boards of Fitzroy gardens\n",
    "#location_filter = data.location == 'Fitzroy Gardens'\n",
    "time_filter = data.ts < pd.Timestamp('2015-01-01')\n",
    "board_filter1 = data.boardid == 501\n",
    "data_filtered1 = data[board_filter1 & time_filter]\n",
    "board_filter2 = data.boardid == 502\n",
    "data_filtered2 = data[board_filter2 & time_filter]\n",
    "board_filter3 = data.boardid == 505\n",
    "data_filtered3 = data[board_filter3 & time_filter]\n",
    "board_filter4 = data.boardid == 507\n",
    "data_filtered4 = data[board_filter4 & time_filter]\n",
    "board_filter5 = data.boardid == 508\n",
    "data_filtered5 = data[board_filter5 & time_filter]\n",
    "plt.subplot(511)\n",
    "plt.title('Board 501')\n",
    "plt.xlabel('timestamp')\n",
    "plt.ylabel('Average Temperature')\n",
    "plt.plot(data_filtered1.ts, data_filtered1.temp_avg, 'o', c='g', alpha=1.0)\n",
    "plt.subplot(512)\n",
    "plt.title('Board 502')\n",
    "plt.xlabel('timestamp')\n",
    "plt.ylabel('Average Temperature')\n",
    "plt.plot(data_filtered2.ts, data_filtered2.temp_avg, '*', c='r', alpha=1.0)\n",
    "plt.subplot(513)\n",
    "plt.title('Board 505')\n",
    "plt.xlabel('timestamp')\n",
    "plt.ylabel('Average Temperature')\n",
    "plt.plot(data_filtered3.ts, data_filtered3.temp_avg, '*', c='b', alpha=1.0)\n",
    "plt.subplot(514)\n",
    "plt.title('Board 507')\n",
    "plt.xlabel('timestamp')\n",
    "plt.ylabel('Average Temperature')\n",
    "plt.plot(data_filtered4.ts, data_filtered4.temp_avg, 's', c='g', alpha=.5)\n",
    "plt.subplot(515)\n",
    "plt.title('Board 508')\n",
    "plt.xlabel('timestamp')\n",
    "plt.ylabel('Average Temperature')\n",
    "plt.plot(data_filtered4.ts, data_filtered4.temp_avg, '^', c='y', alpha=.5)\n",
    "plt.subplots_adjust(hspace = .5)\n",
    "plt.show()\n"
   ]
  },
  {
   "cell_type": "code",
   "execution_count": 22,
   "metadata": {},
   "outputs": [
    {
     "name": "stderr",
     "output_type": "stream",
     "text": [
      "C:\\Users\\Harini Pravin\\Anaconda3\\lib\\site-packages\\ipykernel_launcher.py:7: SettingWithCopyWarning: \n",
      "A value is trying to be set on a copy of a slice from a DataFrame.\n",
      "Try using .loc[row_indexer,col_indexer] = value instead\n",
      "\n",
      "See the caveats in the documentation: http://pandas.pydata.org/pandas-docs/stable/indexing.html#indexing-view-versus-copy\n",
      "  import sys\n"
     ]
    },
    {
     "data": {
      "image/png": "[encoded data removed]",
      "text/plain": [
       "<Figure size 1296x360 with 2 Axes>"
      ]
     },
     "metadata": {},
     "output_type": "display_data"
    },
    {
     "data": {
      "text/html": [
       "<div>\n",
       "<style scoped>\n",
       "    .dataframe tbody tr th:only-of-type {\n",
       "        vertical-align: middle;\n",
       "    }\n",
       "\n",
       "    .dataframe tbody tr th {\n",
       "        vertical-align: top;\n",
       "    }\n",
       "\n",
       "    .dataframe thead th {\n",
       "        text-align: right;\n",
       "    }\n",
       "</style>\n",
       "<table border=\"1\" class=\"dataframe\">\n",
       "  <thead>\n",
       "    <tr style=\"text-align: right;\">\n",
       "      <th></th>\n",
       "      <th>timestamp</th>\n",
       "      <th>boardid</th>\n",
       "      <th>temp_max</th>\n",
       "      <th>temp_min</th>\n",
       "      <th>temp_avg</th>\n",
       "      <th>light_max</th>\n",
       "      <th>light_min</th>\n",
       "      <th>light_avg</th>\n",
       "      <th>humidity_min</th>\n",
       "      <th>humidity_max</th>\n",
       "      <th>humidity_avg</th>\n",
       "      <th>latitude</th>\n",
       "      <th>longitude</th>\n",
       "      <th>elevation</th>\n",
       "      <th>location</th>\n",
       "      <th>ts</th>\n",
       "      <th>Median</th>\n",
       "    </tr>\n",
       "  </thead>\n",
       "  <tbody>\n",
       "    <tr>\n",
       "      <th>7109</th>\n",
       "      <td>12/23/2014 07:00:00 PM</td>\n",
       "      <td>507</td>\n",
       "      <td>12.9</td>\n",
       "      <td>12.9</td>\n",
       "      <td>12.9</td>\n",
       "      <td>62.7</td>\n",
       "      <td>62.7</td>\n",
       "      <td>62.7</td>\n",
       "      <td>63.9</td>\n",
       "      <td>63.9</td>\n",
       "      <td>63.9</td>\n",
       "      <td>-37.814922</td>\n",
       "      <td>144.982258</td>\n",
       "      <td>38.79</td>\n",
       "      <td>Fitzroy Gardens</td>\n",
       "      <td>2014-12-23 07:00:00</td>\n",
       "      <td>12.9</td>\n",
       "    </tr>\n",
       "    <tr>\n",
       "      <th>7110</th>\n",
       "      <td>12/23/2014 07:05:00 PM</td>\n",
       "      <td>501</td>\n",
       "      <td>12.6</td>\n",
       "      <td>12.6</td>\n",
       "      <td>12.6</td>\n",
       "      <td>65.6</td>\n",
       "      <td>65.6</td>\n",
       "      <td>65.6</td>\n",
       "      <td>61.2</td>\n",
       "      <td>61.2</td>\n",
       "      <td>61.2</td>\n",
       "      <td>-37.814808</td>\n",
       "      <td>144.980999</td>\n",
       "      <td>29.96</td>\n",
       "      <td>Fitzroy Gardens</td>\n",
       "      <td>2014-12-23 07:05:00</td>\n",
       "      <td>12.9</td>\n",
       "    </tr>\n",
       "    <tr>\n",
       "      <th>7113</th>\n",
       "      <td>12/23/2014 07:05:00 PM</td>\n",
       "      <td>508</td>\n",
       "      <td>13.9</td>\n",
       "      <td>13.9</td>\n",
       "      <td>13.9</td>\n",
       "      <td>59.9</td>\n",
       "      <td>59.9</td>\n",
       "      <td>59.9</td>\n",
       "      <td>52.6</td>\n",
       "      <td>52.6</td>\n",
       "      <td>52.6</td>\n",
       "      <td>-37.813408</td>\n",
       "      <td>144.979492</td>\n",
       "      <td>30.10</td>\n",
       "      <td>Fitzroy Gardens</td>\n",
       "      <td>2014-12-23 07:05:00</td>\n",
       "      <td>12.9</td>\n",
       "    </tr>\n",
       "    <tr>\n",
       "      <th>7114</th>\n",
       "      <td>12/23/2014 07:05:00 PM</td>\n",
       "      <td>502</td>\n",
       "      <td>13.2</td>\n",
       "      <td>13.2</td>\n",
       "      <td>13.2</td>\n",
       "      <td>69.1</td>\n",
       "      <td>69.1</td>\n",
       "      <td>69.1</td>\n",
       "      <td>61.4</td>\n",
       "      <td>61.4</td>\n",
       "      <td>61.4</td>\n",
       "      <td>-37.814610</td>\n",
       "      <td>144.979018</td>\n",
       "      <td>22.57</td>\n",
       "      <td>Fitzroy Gardens</td>\n",
       "      <td>2014-12-23 07:05:00</td>\n",
       "      <td>12.9</td>\n",
       "    </tr>\n",
       "    <tr>\n",
       "      <th>7115</th>\n",
       "      <td>12/23/2014 07:10:00 PM</td>\n",
       "      <td>505</td>\n",
       "      <td>14.5</td>\n",
       "      <td>14.5</td>\n",
       "      <td>14.5</td>\n",
       "      <td>53.2</td>\n",
       "      <td>53.2</td>\n",
       "      <td>53.2</td>\n",
       "      <td>63.0</td>\n",
       "      <td>63.0</td>\n",
       "      <td>63.0</td>\n",
       "      <td>-37.813073</td>\n",
       "      <td>144.980406</td>\n",
       "      <td>29.91</td>\n",
       "      <td>Fitzroy Gardens</td>\n",
       "      <td>2014-12-23 07:10:00</td>\n",
       "      <td>12.9</td>\n",
       "    </tr>\n",
       "  </tbody>\n",
       "</table>\n",
       "</div>"
      ],
      "text/plain": [
       "                   timestamp  boardid  temp_max  temp_min  temp_avg  \\\n",
       "7109  12/23/2014 07:00:00 PM      507      12.9      12.9      12.9   \n",
       "7110  12/23/2014 07:05:00 PM      501      12.6      12.6      12.6   \n",
       "7113  12/23/2014 07:05:00 PM      508      13.9      13.9      13.9   \n",
       "7114  12/23/2014 07:05:00 PM      502      13.2      13.2      13.2   \n",
       "7115  12/23/2014 07:10:00 PM      505      14.5      14.5      14.5   \n",
       "\n",
       "      light_max  light_min  light_avg  humidity_min  humidity_max  \\\n",
       "7109       62.7       62.7       62.7          63.9          63.9   \n",
       "7110       65.6       65.6       65.6          61.2          61.2   \n",
       "7113       59.9       59.9       59.9          52.6          52.6   \n",
       "7114       69.1       69.1       69.1          61.4          61.4   \n",
       "7115       53.2       53.2       53.2          63.0          63.0   \n",
       "\n",
       "      humidity_avg   latitude   longitude  elevation         location  \\\n",
       "7109          63.9 -37.814922  144.982258      38.79  Fitzroy Gardens   \n",
       "7110          61.2 -37.814808  144.980999      29.96  Fitzroy Gardens   \n",
       "7113          52.6 -37.813408  144.979492      30.10  Fitzroy Gardens   \n",
       "7114          61.4 -37.814610  144.979018      22.57  Fitzroy Gardens   \n",
       "7115          63.0 -37.813073  144.980406      29.91  Fitzroy Gardens   \n",
       "\n",
       "                      ts  Median  \n",
       "7109 2014-12-23 07:00:00    12.9  \n",
       "7110 2014-12-23 07:05:00    12.9  \n",
       "7113 2014-12-23 07:05:00    12.9  \n",
       "7114 2014-12-23 07:05:00    12.9  \n",
       "7115 2014-12-23 07:10:00    12.9  "
      ]
     },
     "execution_count": 22,
     "metadata": {},
     "output_type": "execute_result"
    }
   ],
   "source": [
    "#plotting the median\n",
    "plt.figure(figsize=(18,5))\n",
    "location_filter = data.location == 'Fitzroy Gardens'\n",
    "time_filter = data.ts < pd.Timestamp('2015-01-01')\n",
    "data_filtered = data[location_filter & time_filter]\n",
    "#data_filtered['Median'] = data_filtered.temp_avg.rolling(25).median()\n",
    "data_filtered['Median'] = data_filtered.loc[:,'temp_avg'].rolling(25).median()  #rolling median is used to smooth out short term\n",
    "plt.subplot(2,1,1)                                                              #fluctuations\n",
    "plt.title('temp_avg for Fitzroy Gardens')\n",
    "plt.plot(data_filtered.ts, data_filtered.temp_avg, ',', c='g', alpha=1.0)\n",
    "plt.subplot(2,1,2)\n",
    "plt.title('Median for Fitzroy Gardens')\n",
    "#data_filtered['Median'].plot()\n",
    "plt.plot(data_filtered.ts, data_filtered.Median,',', c='b', alpha=1.0)\n",
    "plt.subplots_adjust(hspace = .5)\n",
    "plt.show()\n",
    "data_filtered.tail()\n",
    "\n"
   ]
  },
  {
   "cell_type": "markdown",
   "metadata": {},
   "source": [
    "##Problems faced in assignment:\n",
    "1. For the median printout, I am not able to understand how to populate the elevation for Docksland library,since there are no values for elevation for it in the dataframe --missing data.\n",
    "2. Still facing issues in using .iloc. Getting key error.Hence used data filters for the median and std printouts. \n",
    "3. not able to understand the graph plotted for median. There are no errors but need some more insight to verify the output.\n",
    "4. Trying to pass a selected column as an array to a calling function.facing length mismatch issues. used data filters instead."
   ]
  }
 ],
 "metadata": {
  "kernelspec": {
   "display_name": "Python 3",
   "language": "python",
   "name": "python3"
  },
  "language_info": {
   "codemirror_mode": {
    "name": "ipython",
    "version": 3
   },
   "file_extension": ".py",
   "mimetype": "text/x-python",
   "name": "python",
   "nbconvert_exporter": "python",
   "pygments_lexer": "ipython3",
   "version": "3.6.5"
  }
 },
 "nbformat": 4,
 "nbformat_minor": 2
}
